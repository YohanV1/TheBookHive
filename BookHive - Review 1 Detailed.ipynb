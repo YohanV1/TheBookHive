{
 "cells": [
  {
   "cell_type": "markdown",
   "id": "56cd938d",
   "metadata": {},
   "source": [
    "# Review 1"
   ]
  },
  {
   "cell_type": "markdown",
   "id": "a28130d8",
   "metadata": {},
   "source": [
    "## Problem Statement & Societal Impact\n",
    "\n",
    "Developing a book recommendation system aims to address the challenge of assisting users in discovering books that align with their preferences, interests, and reading habits. The system leverages user data, such as past book ratings, demographic information, and book metadata to provide personalized recommendations. The primary goal is to enhance user satisfaction by offering relevant and engaging book suggestions, ultimately leading to increased user engagement, retention, and potentially, book sales.\n",
    "\n",
    "### The possible impact of such a system includes but is not limited to:\n",
    "1. Enhanced Access to Diverse Literature\n",
    "2. Fostering Reading Culture\n",
    "3. Supporting Independent Authors and Publishers\n",
    "4. Empowering Users with Information\n",
    "5. Reducing Information Overload"
   ]
  },
  {
   "cell_type": "markdown",
   "id": "491f058f",
   "metadata": {},
   "source": [
    "## Abstract\n",
    "\n",
    "This project investigates the effectiveness of collaborative filtering in recommending books to users. We propose a recommender system that analyzes user-item interactions, specifically focusing on book ratings provided by users. The dataset employed incorporates various user attributes (user ID, location, age) alongside detailed book information (ISBN, title, author, publication year, publisher) and visual elements (image URLs).\n",
    "\n",
    "The core recommendation engine utilizes collaborative filtering techniques to identify users with similar reading preferences. By analyzing past rating behavior, the system calculates user similarities and leverages these connections to recommend books enjoyed by similar users. This approach aims to address the cold-start problem and cater to users with limited reading history.\n",
    "\n",
    "The project evaluates the performance of the chosen collaborative filtering algorithm, assessing its ability to generate relevant and personalized book recommendations. The findings will contribute to the development of more effective book recommendation systems, enhancing user experience and potentially fostering a deeper engagement with literature."
   ]
  },
  {
   "cell_type": "markdown",
   "id": "70c2dd6a",
   "metadata": {},
   "source": [
    "## Selection of Dataset\n",
    "\n",
    "This dataset is from [Kaggle](https://www.kaggle.com/datasets/arashnic/book-recommendation-dataset). It comprises three different datasets- Users, Ratings, & Books. The three datasets have been merged along the ISBN and User ID columns.\n",
    "\n",
    "* Users:\n",
    "Contains the users. Note that user IDs (User-ID) have been anonymized and map to integers. Demographic data is provided (Location, Age) if available. Otherwise, these fields contain NULL-values.\n",
    "\n",
    "\n",
    "* Books:\n",
    "Books are identified by their respective ISBN. Invalid ISBNs have already been removed from the dataset. Moreover, some content-based information is given (Book-Title, Book-Author, Year-Of-Publication, Publisher), obtained from Amazon Web Services. Note that in case of several authors, only the first is provided. URLs linking to cover images are also given, appearing in three different flavours (Image-URL-S, Image-URL-M, Image-URL-L), i.e., small, medium, large. These URLs point to the Amazon web site.\n",
    "\n",
    "\n",
    "* Ratings:\n",
    "Contains the book rating information. Ratings (Book-Rating) are either explicit, expressed on a scale from 1-10 (higher values denoting higher appreciation), or implicit, expressed by 0."
   ]
  },
  {
   "cell_type": "markdown",
   "id": "4c2989ce",
   "metadata": {},
   "source": [
    "## Exploratory Data Analysis"
   ]
  },
  {
   "cell_type": "markdown",
   "id": "24e46ffd",
   "metadata": {},
   "source": [
    "### Importing Libraries"
   ]
  },
  {
   "cell_type": "code",
   "execution_count": 1,
   "id": "78b008c4",
   "metadata": {},
   "outputs": [],
   "source": [
    "import numpy as np\n",
    "import pandas as pd\n",
    "import matplotlib.pyplot as plt\n",
    "import seaborn as sns\n",
    "import scipy\n",
    "import ipywidgets as widgets\n",
    "from IPython.display import display, clear_output\n",
    "\n",
    "import warnings\n",
    "warnings.filterwarnings('ignore')\n",
    "pd.set_option('display.max_colwidth', -1)\n",
    "\n",
    "import os, sys\n",
    "import re"
   ]
  },
  {
   "cell_type": "markdown",
   "id": "c1146271",
   "metadata": {},
   "source": [
    "### Reading in the data"
   ]
  },
  {
   "cell_type": "code",
   "execution_count": 2,
   "id": "ba49b197",
   "metadata": {},
   "outputs": [
    {
     "data": {
      "text/html": [
       "<div>\n",
       "<style scoped>\n",
       "    .dataframe tbody tr th:only-of-type {\n",
       "        vertical-align: middle;\n",
       "    }\n",
       "\n",
       "    .dataframe tbody tr th {\n",
       "        vertical-align: top;\n",
       "    }\n",
       "\n",
       "    .dataframe thead th {\n",
       "        text-align: right;\n",
       "    }\n",
       "</style>\n",
       "<table border=\"1\" class=\"dataframe\">\n",
       "  <thead>\n",
       "    <tr style=\"text-align: right;\">\n",
       "      <th></th>\n",
       "      <th>ISBN</th>\n",
       "      <th>Book-Title</th>\n",
       "      <th>Book-Author</th>\n",
       "      <th>Year-Of-Publication</th>\n",
       "      <th>Publisher</th>\n",
       "      <th>Image-URL-S</th>\n",
       "      <th>Image-URL-M</th>\n",
       "      <th>Image-URL-L</th>\n",
       "    </tr>\n",
       "  </thead>\n",
       "  <tbody>\n",
       "    <tr>\n",
       "      <th>0</th>\n",
       "      <td>0195153448</td>\n",
       "      <td>Classical Mythology</td>\n",
       "      <td>Mark P. O. Morford</td>\n",
       "      <td>2002</td>\n",
       "      <td>Oxford University Press</td>\n",
       "      <td>http://images.amazon.com/images/P/0195153448.01.THUMBZZZ.jpg</td>\n",
       "      <td>http://images.amazon.com/images/P/0195153448.01.MZZZZZZZ.jpg</td>\n",
       "      <td>http://images.amazon.com/images/P/0195153448.01.LZZZZZZZ.jpg</td>\n",
       "    </tr>\n",
       "    <tr>\n",
       "      <th>1</th>\n",
       "      <td>0002005018</td>\n",
       "      <td>Clara Callan</td>\n",
       "      <td>Richard Bruce Wright</td>\n",
       "      <td>2001</td>\n",
       "      <td>HarperFlamingo Canada</td>\n",
       "      <td>http://images.amazon.com/images/P/0002005018.01.THUMBZZZ.jpg</td>\n",
       "      <td>http://images.amazon.com/images/P/0002005018.01.MZZZZZZZ.jpg</td>\n",
       "      <td>http://images.amazon.com/images/P/0002005018.01.LZZZZZZZ.jpg</td>\n",
       "    </tr>\n",
       "    <tr>\n",
       "      <th>2</th>\n",
       "      <td>0060973129</td>\n",
       "      <td>Decision in Normandy</td>\n",
       "      <td>Carlo D'Este</td>\n",
       "      <td>1991</td>\n",
       "      <td>HarperPerennial</td>\n",
       "      <td>http://images.amazon.com/images/P/0060973129.01.THUMBZZZ.jpg</td>\n",
       "      <td>http://images.amazon.com/images/P/0060973129.01.MZZZZZZZ.jpg</td>\n",
       "      <td>http://images.amazon.com/images/P/0060973129.01.LZZZZZZZ.jpg</td>\n",
       "    </tr>\n",
       "    <tr>\n",
       "      <th>3</th>\n",
       "      <td>0374157065</td>\n",
       "      <td>Flu: The Story of the Great Influenza Pandemic of 1918 and the Search for the Virus That Caused It</td>\n",
       "      <td>Gina Bari Kolata</td>\n",
       "      <td>1999</td>\n",
       "      <td>Farrar Straus Giroux</td>\n",
       "      <td>http://images.amazon.com/images/P/0374157065.01.THUMBZZZ.jpg</td>\n",
       "      <td>http://images.amazon.com/images/P/0374157065.01.MZZZZZZZ.jpg</td>\n",
       "      <td>http://images.amazon.com/images/P/0374157065.01.LZZZZZZZ.jpg</td>\n",
       "    </tr>\n",
       "    <tr>\n",
       "      <th>4</th>\n",
       "      <td>0393045218</td>\n",
       "      <td>The Mummies of Urumchi</td>\n",
       "      <td>E. J. W. Barber</td>\n",
       "      <td>1999</td>\n",
       "      <td>W. W. Norton &amp;amp; Company</td>\n",
       "      <td>http://images.amazon.com/images/P/0393045218.01.THUMBZZZ.jpg</td>\n",
       "      <td>http://images.amazon.com/images/P/0393045218.01.MZZZZZZZ.jpg</td>\n",
       "      <td>http://images.amazon.com/images/P/0393045218.01.LZZZZZZZ.jpg</td>\n",
       "    </tr>\n",
       "  </tbody>\n",
       "</table>\n",
       "</div>"
      ],
      "text/plain": [
       "         ISBN  \\\n",
       "0  0195153448   \n",
       "1  0002005018   \n",
       "2  0060973129   \n",
       "3  0374157065   \n",
       "4  0393045218   \n",
       "\n",
       "                                                                                           Book-Title  \\\n",
       "0  Classical Mythology                                                                                  \n",
       "1  Clara Callan                                                                                         \n",
       "2  Decision in Normandy                                                                                 \n",
       "3  Flu: The Story of the Great Influenza Pandemic of 1918 and the Search for the Virus That Caused It   \n",
       "4  The Mummies of Urumchi                                                                               \n",
       "\n",
       "            Book-Author Year-Of-Publication                   Publisher  \\\n",
       "0  Mark P. O. Morford    2002                Oxford University Press      \n",
       "1  Richard Bruce Wright  2001                HarperFlamingo Canada        \n",
       "2  Carlo D'Este          1991                HarperPerennial              \n",
       "3  Gina Bari Kolata      1999                Farrar Straus Giroux         \n",
       "4  E. J. W. Barber       1999                W. W. Norton &amp; Company   \n",
       "\n",
       "                                                    Image-URL-S  \\\n",
       "0  http://images.amazon.com/images/P/0195153448.01.THUMBZZZ.jpg   \n",
       "1  http://images.amazon.com/images/P/0002005018.01.THUMBZZZ.jpg   \n",
       "2  http://images.amazon.com/images/P/0060973129.01.THUMBZZZ.jpg   \n",
       "3  http://images.amazon.com/images/P/0374157065.01.THUMBZZZ.jpg   \n",
       "4  http://images.amazon.com/images/P/0393045218.01.THUMBZZZ.jpg   \n",
       "\n",
       "                                                    Image-URL-M  \\\n",
       "0  http://images.amazon.com/images/P/0195153448.01.MZZZZZZZ.jpg   \n",
       "1  http://images.amazon.com/images/P/0002005018.01.MZZZZZZZ.jpg   \n",
       "2  http://images.amazon.com/images/P/0060973129.01.MZZZZZZZ.jpg   \n",
       "3  http://images.amazon.com/images/P/0374157065.01.MZZZZZZZ.jpg   \n",
       "4  http://images.amazon.com/images/P/0393045218.01.MZZZZZZZ.jpg   \n",
       "\n",
       "                                                    Image-URL-L  \n",
       "0  http://images.amazon.com/images/P/0195153448.01.LZZZZZZZ.jpg  \n",
       "1  http://images.amazon.com/images/P/0002005018.01.LZZZZZZZ.jpg  \n",
       "2  http://images.amazon.com/images/P/0060973129.01.LZZZZZZZ.jpg  \n",
       "3  http://images.amazon.com/images/P/0374157065.01.LZZZZZZZ.jpg  \n",
       "4  http://images.amazon.com/images/P/0393045218.01.LZZZZZZZ.jpg  "
      ]
     },
     "execution_count": 2,
     "metadata": {},
     "output_type": "execute_result"
    }
   ],
   "source": [
    "books = pd.read_csv('datasets/Books.csv')\n",
    "books.head()"
   ]
  },
  {
   "cell_type": "code",
   "execution_count": 4,
   "id": "6f58eff6",
   "metadata": {},
   "outputs": [
    {
     "data": {
      "text/html": [
       "<div>\n",
       "<style scoped>\n",
       "    .dataframe tbody tr th:only-of-type {\n",
       "        vertical-align: middle;\n",
       "    }\n",
       "\n",
       "    .dataframe tbody tr th {\n",
       "        vertical-align: top;\n",
       "    }\n",
       "\n",
       "    .dataframe thead th {\n",
       "        text-align: right;\n",
       "    }\n",
       "</style>\n",
       "<table border=\"1\" class=\"dataframe\">\n",
       "  <thead>\n",
       "    <tr style=\"text-align: right;\">\n",
       "      <th></th>\n",
       "      <th>User-ID</th>\n",
       "      <th>Location</th>\n",
       "      <th>Age</th>\n",
       "    </tr>\n",
       "  </thead>\n",
       "  <tbody>\n",
       "    <tr>\n",
       "      <th>0</th>\n",
       "      <td>1</td>\n",
       "      <td>nyc, new york, usa</td>\n",
       "      <td>NaN</td>\n",
       "    </tr>\n",
       "    <tr>\n",
       "      <th>1</th>\n",
       "      <td>2</td>\n",
       "      <td>stockton, california, usa</td>\n",
       "      <td>18.0</td>\n",
       "    </tr>\n",
       "    <tr>\n",
       "      <th>2</th>\n",
       "      <td>3</td>\n",
       "      <td>moscow, yukon territory, russia</td>\n",
       "      <td>NaN</td>\n",
       "    </tr>\n",
       "    <tr>\n",
       "      <th>3</th>\n",
       "      <td>4</td>\n",
       "      <td>porto, v.n.gaia, portugal</td>\n",
       "      <td>17.0</td>\n",
       "    </tr>\n",
       "    <tr>\n",
       "      <th>4</th>\n",
       "      <td>5</td>\n",
       "      <td>farnborough, hants, united kingdom</td>\n",
       "      <td>NaN</td>\n",
       "    </tr>\n",
       "  </tbody>\n",
       "</table>\n",
       "</div>"
      ],
      "text/plain": [
       "   User-ID                            Location   Age\n",
       "0  1        nyc, new york, usa                 NaN  \n",
       "1  2        stockton, california, usa           18.0\n",
       "2  3        moscow, yukon territory, russia    NaN  \n",
       "3  4        porto, v.n.gaia, portugal           17.0\n",
       "4  5        farnborough, hants, united kingdom NaN  "
      ]
     },
     "execution_count": 4,
     "metadata": {},
     "output_type": "execute_result"
    }
   ],
   "source": [
    "users = pd.read_csv('datasets/Users.csv')\n",
    "users.head()"
   ]
  },
  {
   "cell_type": "code",
   "execution_count": 7,
   "id": "69766a7c",
   "metadata": {},
   "outputs": [
    {
     "data": {
      "text/html": [
       "<div>\n",
       "<style scoped>\n",
       "    .dataframe tbody tr th:only-of-type {\n",
       "        vertical-align: middle;\n",
       "    }\n",
       "\n",
       "    .dataframe tbody tr th {\n",
       "        vertical-align: top;\n",
       "    }\n",
       "\n",
       "    .dataframe thead th {\n",
       "        text-align: right;\n",
       "    }\n",
       "</style>\n",
       "<table border=\"1\" class=\"dataframe\">\n",
       "  <thead>\n",
       "    <tr style=\"text-align: right;\">\n",
       "      <th></th>\n",
       "      <th>User-ID</th>\n",
       "      <th>ISBN</th>\n",
       "      <th>Book-Rating</th>\n",
       "    </tr>\n",
       "  </thead>\n",
       "  <tbody>\n",
       "    <tr>\n",
       "      <th>0</th>\n",
       "      <td>276725</td>\n",
       "      <td>034545104X</td>\n",
       "      <td>0</td>\n",
       "    </tr>\n",
       "    <tr>\n",
       "      <th>1</th>\n",
       "      <td>276726</td>\n",
       "      <td>0155061224</td>\n",
       "      <td>5</td>\n",
       "    </tr>\n",
       "    <tr>\n",
       "      <th>2</th>\n",
       "      <td>276727</td>\n",
       "      <td>0446520802</td>\n",
       "      <td>0</td>\n",
       "    </tr>\n",
       "    <tr>\n",
       "      <th>3</th>\n",
       "      <td>276729</td>\n",
       "      <td>052165615X</td>\n",
       "      <td>3</td>\n",
       "    </tr>\n",
       "    <tr>\n",
       "      <th>4</th>\n",
       "      <td>276729</td>\n",
       "      <td>0521795028</td>\n",
       "      <td>6</td>\n",
       "    </tr>\n",
       "  </tbody>\n",
       "</table>\n",
       "</div>"
      ],
      "text/plain": [
       "   User-ID        ISBN  Book-Rating\n",
       "0  276725   034545104X  0          \n",
       "1  276726   0155061224  5          \n",
       "2  276727   0446520802  0          \n",
       "3  276729   052165615X  3          \n",
       "4  276729   0521795028  6          "
      ]
     },
     "execution_count": 7,
     "metadata": {},
     "output_type": "execute_result"
    }
   ],
   "source": [
    "ratings = pd.read_csv('datasets/Ratings.csv')\n",
    "ratings.head()"
   ]
  },
  {
   "cell_type": "markdown",
   "id": "1d628b9f",
   "metadata": {},
   "source": [
    "### Changing Column Names and Viewing Shape"
   ]
  },
  {
   "cell_type": "code",
   "execution_count": 8,
   "id": "c5894689",
   "metadata": {},
   "outputs": [
    {
     "name": "stdout",
     "output_type": "stream",
     "text": [
      "(271360, 8)\n",
      "(278858, 3)\n",
      "(1149780, 3)\n"
     ]
    }
   ],
   "source": [
    "books.columns = ['ISBN', 'bookTitle', 'bookAuthor', 'yearOfPublication', 'publisher', 'imageUrlS', 'imageUrlM', 'imageUrlL']\n",
    "\n",
    "print(books.shape)\n",
    "print(users.shape)\n",
    "print(ratings.shape)"
   ]
  },
  {
   "cell_type": "markdown",
   "id": "d18157ac",
   "metadata": {},
   "source": [
    "### Dropping image URL columns"
   ]
  },
  {
   "cell_type": "code",
   "execution_count": 9,
   "id": "d1f0e335",
   "metadata": {},
   "outputs": [
    {
     "data": {
      "text/plain": [
       "ISBN                 object\n",
       "bookTitle            object\n",
       "bookAuthor           object\n",
       "yearOfPublication    object\n",
       "publisher            object\n",
       "dtype: object"
      ]
     },
     "execution_count": 9,
     "metadata": {},
     "output_type": "execute_result"
    }
   ],
   "source": [
    "books.drop(['imageUrlS', 'imageUrlM', 'imageUrlL'],axis=1,inplace=True)\n",
    "\n",
    "books.dtypes"
   ]
  },
  {
   "cell_type": "markdown",
   "id": "52a2fb2b",
   "metadata": {},
   "source": [
    "### Describing year of publication"
   ]
  },
  {
   "cell_type": "code",
   "execution_count": 10,
   "id": "7d71e211",
   "metadata": {},
   "outputs": [
    {
     "data": {
      "text/plain": [
       "count     271360\n",
       "unique    202   \n",
       "top       2002  \n",
       "freq      13903 \n",
       "Name: yearOfPublication, dtype: int64"
      ]
     },
     "execution_count": 10,
     "metadata": {},
     "output_type": "execute_result"
    }
   ],
   "source": [
    "books.yearOfPublication.describe()"
   ]
  },
  {
   "cell_type": "markdown",
   "id": "e23acada",
   "metadata": {},
   "source": [
    "### Data Cleaning"
   ]
  },
  {
   "cell_type": "code",
   "execution_count": 11,
   "id": "17beca8c",
   "metadata": {},
   "outputs": [
    {
     "data": {
      "text/html": [
       "<div>\n",
       "<style scoped>\n",
       "    .dataframe tbody tr th:only-of-type {\n",
       "        vertical-align: middle;\n",
       "    }\n",
       "\n",
       "    .dataframe tbody tr th {\n",
       "        vertical-align: top;\n",
       "    }\n",
       "\n",
       "    .dataframe thead th {\n",
       "        text-align: right;\n",
       "    }\n",
       "</style>\n",
       "<table border=\"1\" class=\"dataframe\">\n",
       "  <thead>\n",
       "    <tr style=\"text-align: right;\">\n",
       "      <th></th>\n",
       "      <th>ISBN</th>\n",
       "      <th>bookTitle</th>\n",
       "      <th>bookAuthor</th>\n",
       "      <th>yearOfPublication</th>\n",
       "      <th>publisher</th>\n",
       "    </tr>\n",
       "  </thead>\n",
       "  <tbody>\n",
       "    <tr>\n",
       "      <th>209538</th>\n",
       "      <td>078946697X</td>\n",
       "      <td>DK Readers: Creating the X-Men, How It All Began (Level 4: Proficient Readers)\\\";Michael Teitelbaum\"</td>\n",
       "      <td>2000</td>\n",
       "      <td>DK Publishing Inc</td>\n",
       "      <td>http://images.amazon.com/images/P/078946697X.01.THUMBZZZ.jpg</td>\n",
       "    </tr>\n",
       "    <tr>\n",
       "      <th>221678</th>\n",
       "      <td>0789466953</td>\n",
       "      <td>DK Readers: Creating the X-Men, How Comic Books Come to Life (Level 4: Proficient Readers)\\\";James Buckley\"</td>\n",
       "      <td>2000</td>\n",
       "      <td>DK Publishing Inc</td>\n",
       "      <td>http://images.amazon.com/images/P/0789466953.01.THUMBZZZ.jpg</td>\n",
       "    </tr>\n",
       "  </tbody>\n",
       "</table>\n",
       "</div>"
      ],
      "text/plain": [
       "              ISBN  \\\n",
       "209538  078946697X   \n",
       "221678  0789466953   \n",
       "\n",
       "                                                                                                          bookTitle  \\\n",
       "209538  DK Readers: Creating the X-Men, How It All Began (Level 4: Proficient Readers)\\\";Michael Teitelbaum\"          \n",
       "221678  DK Readers: Creating the X-Men, How Comic Books Come to Life (Level 4: Proficient Readers)\\\";James Buckley\"   \n",
       "\n",
       "       bookAuthor  yearOfPublication  \\\n",
       "209538  2000       DK Publishing Inc   \n",
       "221678  2000       DK Publishing Inc   \n",
       "\n",
       "                                                           publisher  \n",
       "209538  http://images.amazon.com/images/P/078946697X.01.THUMBZZZ.jpg  \n",
       "221678  http://images.amazon.com/images/P/0789466953.01.THUMBZZZ.jpg  "
      ]
     },
     "execution_count": 11,
     "metadata": {},
     "output_type": "execute_result"
    }
   ],
   "source": [
    "books.loc[books.yearOfPublication == 'DK Publishing Inc',:]"
   ]
  },
  {
   "cell_type": "code",
   "execution_count": 12,
   "id": "3764a1c6",
   "metadata": {},
   "outputs": [
    {
     "data": {
      "text/html": [
       "<div>\n",
       "<style scoped>\n",
       "    .dataframe tbody tr th:only-of-type {\n",
       "        vertical-align: middle;\n",
       "    }\n",
       "\n",
       "    .dataframe tbody tr th {\n",
       "        vertical-align: top;\n",
       "    }\n",
       "\n",
       "    .dataframe thead th {\n",
       "        text-align: right;\n",
       "    }\n",
       "</style>\n",
       "<table border=\"1\" class=\"dataframe\">\n",
       "  <thead>\n",
       "    <tr style=\"text-align: right;\">\n",
       "      <th></th>\n",
       "      <th>ISBN</th>\n",
       "      <th>bookTitle</th>\n",
       "      <th>bookAuthor</th>\n",
       "      <th>yearOfPublication</th>\n",
       "      <th>publisher</th>\n",
       "    </tr>\n",
       "  </thead>\n",
       "  <tbody>\n",
       "    <tr>\n",
       "      <th>209538</th>\n",
       "      <td>078946697X</td>\n",
       "      <td>DK Readers: Creating the X-Men, How It All Began (Level 4: Proficient Readers)</td>\n",
       "      <td>Michael Teitelbaum</td>\n",
       "      <td>2000</td>\n",
       "      <td>DK Publishing Inc</td>\n",
       "    </tr>\n",
       "    <tr>\n",
       "      <th>221678</th>\n",
       "      <td>0789466953</td>\n",
       "      <td>DK Readers: Creating the X-Men, How Comic Books Come to Life (Level 4: Proficient Readers)</td>\n",
       "      <td>James Buckley</td>\n",
       "      <td>2000</td>\n",
       "      <td>DK Publishing Inc</td>\n",
       "    </tr>\n",
       "  </tbody>\n",
       "</table>\n",
       "</div>"
      ],
      "text/plain": [
       "              ISBN  \\\n",
       "209538  078946697X   \n",
       "221678  0789466953   \n",
       "\n",
       "                                                                                         bookTitle  \\\n",
       "209538  DK Readers: Creating the X-Men, How It All Began (Level 4: Proficient Readers)               \n",
       "221678  DK Readers: Creating the X-Men, How Comic Books Come to Life (Level 4: Proficient Readers)   \n",
       "\n",
       "                bookAuthor yearOfPublication          publisher  \n",
       "209538  Michael Teitelbaum  2000              DK Publishing Inc  \n",
       "221678  James Buckley       2000              DK Publishing Inc  "
      ]
     },
     "execution_count": 12,
     "metadata": {},
     "output_type": "execute_result"
    }
   ],
   "source": [
    "books.loc[books.ISBN == '0789466953','yearOfPublication'] = 2000\n",
    "books.loc[books.ISBN == '0789466953','bookAuthor'] = \"James Buckley\"\n",
    "books.loc[books.ISBN == '0789466953','publisher'] = \"DK Publishing Inc\"\n",
    "books.loc[books.ISBN == '0789466953','bookTitle'] = \"DK Readers: Creating the X-Men, How Comic Books Come to Life (Level 4: Proficient Readers)\"\n",
    "\n",
    "books.loc[books.ISBN == '078946697X','yearOfPublication'] = 2000\n",
    "books.loc[books.ISBN == '078946697X','bookAuthor'] = \"Michael Teitelbaum\"\n",
    "books.loc[books.ISBN == '078946697X','publisher'] = \"DK Publishing Inc\"\n",
    "books.loc[books.ISBN == '078946697X','bookTitle'] = \"DK Readers: Creating the X-Men, How It All Began (Level 4: Proficient Readers)\"\n",
    "\n",
    "books.loc[(books.ISBN == '0789466953') | (books.ISBN == '078946697X'),:]"
   ]
  },
  {
   "cell_type": "code",
   "execution_count": 13,
   "id": "f64412b8",
   "metadata": {},
   "outputs": [
    {
     "data": {
      "text/html": [
       "<div>\n",
       "<style scoped>\n",
       "    .dataframe tbody tr th:only-of-type {\n",
       "        vertical-align: middle;\n",
       "    }\n",
       "\n",
       "    .dataframe tbody tr th {\n",
       "        vertical-align: top;\n",
       "    }\n",
       "\n",
       "    .dataframe thead th {\n",
       "        text-align: right;\n",
       "    }\n",
       "</style>\n",
       "<table border=\"1\" class=\"dataframe\">\n",
       "  <thead>\n",
       "    <tr style=\"text-align: right;\">\n",
       "      <th></th>\n",
       "      <th>ISBN</th>\n",
       "      <th>bookTitle</th>\n",
       "      <th>bookAuthor</th>\n",
       "      <th>yearOfPublication</th>\n",
       "      <th>publisher</th>\n",
       "    </tr>\n",
       "  </thead>\n",
       "  <tbody>\n",
       "    <tr>\n",
       "      <th>220731</th>\n",
       "      <td>2070426769</td>\n",
       "      <td>Peuple du ciel, suivi de 'Les Bergers\\\";Jean-Marie Gustave Le ClÃ?Â©zio\"</td>\n",
       "      <td>2003</td>\n",
       "      <td>Gallimard</td>\n",
       "      <td>http://images.amazon.com/images/P/2070426769.01.THUMBZZZ.jpg</td>\n",
       "    </tr>\n",
       "  </tbody>\n",
       "</table>\n",
       "</div>"
      ],
      "text/plain": [
       "              ISBN  \\\n",
       "220731  2070426769   \n",
       "\n",
       "                                                                       bookTitle  \\\n",
       "220731  Peuple du ciel, suivi de 'Les Bergers\\\";Jean-Marie Gustave Le ClÃ?Â©zio\"   \n",
       "\n",
       "       bookAuthor yearOfPublication  \\\n",
       "220731  2003       Gallimard          \n",
       "\n",
       "                                                           publisher  \n",
       "220731  http://images.amazon.com/images/P/2070426769.01.THUMBZZZ.jpg  "
      ]
     },
     "execution_count": 13,
     "metadata": {},
     "output_type": "execute_result"
    }
   ],
   "source": [
    "books.loc[books.yearOfPublication == 'Gallimard',:]"
   ]
  },
  {
   "cell_type": "code",
   "execution_count": 14,
   "id": "65d14938",
   "metadata": {},
   "outputs": [
    {
     "data": {
      "text/html": [
       "<div>\n",
       "<style scoped>\n",
       "    .dataframe tbody tr th:only-of-type {\n",
       "        vertical-align: middle;\n",
       "    }\n",
       "\n",
       "    .dataframe tbody tr th {\n",
       "        vertical-align: top;\n",
       "    }\n",
       "\n",
       "    .dataframe thead th {\n",
       "        text-align: right;\n",
       "    }\n",
       "</style>\n",
       "<table border=\"1\" class=\"dataframe\">\n",
       "  <thead>\n",
       "    <tr style=\"text-align: right;\">\n",
       "      <th></th>\n",
       "      <th>ISBN</th>\n",
       "      <th>bookTitle</th>\n",
       "      <th>bookAuthor</th>\n",
       "      <th>yearOfPublication</th>\n",
       "      <th>publisher</th>\n",
       "    </tr>\n",
       "  </thead>\n",
       "  <tbody>\n",
       "    <tr>\n",
       "      <th>220731</th>\n",
       "      <td>2070426769</td>\n",
       "      <td>Peuple du ciel, suivi de 'Les Bergers</td>\n",
       "      <td>Jean-Marie Gustave Le ClÃ?Â©zio</td>\n",
       "      <td>2003</td>\n",
       "      <td>Gallimard</td>\n",
       "    </tr>\n",
       "  </tbody>\n",
       "</table>\n",
       "</div>"
      ],
      "text/plain": [
       "              ISBN                              bookTitle  \\\n",
       "220731  2070426769  Peuple du ciel, suivi de 'Les Bergers   \n",
       "\n",
       "                             bookAuthor yearOfPublication  publisher  \n",
       "220731  Jean-Marie Gustave Le ClÃ?Â©zio  2003              Gallimard  "
      ]
     },
     "execution_count": 14,
     "metadata": {},
     "output_type": "execute_result"
    }
   ],
   "source": [
    "books.loc[books.ISBN == '2070426769','yearOfPublication'] = 2003\n",
    "books.loc[books.ISBN == '2070426769','bookAuthor'] = \"Jean-Marie Gustave Le ClÃ?Â©zio\"\n",
    "books.loc[books.ISBN == '2070426769','publisher'] = \"Gallimard\"\n",
    "books.loc[books.ISBN == '2070426769','bookTitle'] = \"Peuple du ciel, suivi de 'Les Bergers\"\n",
    "\n",
    "\n",
    "books.loc[books.ISBN == '2070426769',:]"
   ]
  },
  {
   "cell_type": "code",
   "execution_count": 15,
   "id": "a42bf845",
   "metadata": {},
   "outputs": [
    {
     "name": "stdout",
     "output_type": "stream",
     "text": [
      "[0, 1376, 1378, 1806, 1897, 1900, 1901, 1902, 1904, 1906, 1908, 1909, 1910, 1911, 1914, 1917, 1919, 1920, 1921, 1922, 1923, 1924, 1925, 1926, 1927, 1928, 1929, 1930, 1931, 1932, 1933, 1934, 1935, 1936, 1937, 1938, 1939, 1940, 1941, 1942, 1943, 1944, 1945, 1946, 1947, 1948, 1949, 1950, 1951, 1952, 1953, 1954, 1955, 1956, 1957, 1958, 1959, 1960, 1961, 1962, 1963, 1964, 1965, 1966, 1967, 1968, 1969, 1970, 1971, 1972, 1973, 1974, 1975, 1976, 1977, 1978, 1979, 1980, 1981, 1982, 1983, 1984, 1985, 1986, 1987, 1988, 1989, 1990, 1991, 1992, 1993, 1994, 1995, 1996, 1997, 1998, 1999, 2000, 2001, 2002, 2003, 2004, 2005, 2006, 2008, 2010, 2011, 2012, 2020, 2021, 2024, 2026, 2030, 2037, 2038, 2050]\n"
     ]
    }
   ],
   "source": [
    "books.yearOfPublication=pd.to_numeric(books.yearOfPublication, errors='coerce')\n",
    "\n",
    "print(sorted(books['yearOfPublication'].unique()))"
   ]
  },
  {
   "cell_type": "code",
   "execution_count": 16,
   "id": "b5fab5c8",
   "metadata": {},
   "outputs": [],
   "source": [
    "books.loc[(books.yearOfPublication > 2006) | (books.yearOfPublication == 0),'yearOfPublication'] = np.NAN"
   ]
  },
  {
   "cell_type": "code",
   "execution_count": 17,
   "id": "5e245d49",
   "metadata": {},
   "outputs": [],
   "source": [
    "books.yearOfPublication.fillna(round(books.yearOfPublication.mean()), inplace=True)"
   ]
  },
  {
   "cell_type": "code",
   "execution_count": 18,
   "id": "f171e55f",
   "metadata": {},
   "outputs": [
    {
     "data": {
      "text/plain": [
       "0"
      ]
     },
     "execution_count": 18,
     "metadata": {},
     "output_type": "execute_result"
    }
   ],
   "source": [
    "books.yearOfPublication.isnull().sum()"
   ]
  },
  {
   "cell_type": "code",
   "execution_count": 19,
   "id": "6c735bae",
   "metadata": {},
   "outputs": [
    {
     "name": "stdout",
     "output_type": "stream",
     "text": [
      "[1376.0, 1378.0, 1806.0, 1897.0, 1900.0, 1901.0, 1902.0, 1904.0, 1906.0, 1908.0, 1909.0, 1910.0, 1911.0, 1914.0, 1917.0, 1919.0, 1920.0, 1921.0, 1922.0, 1923.0, 1924.0, 1925.0, 1926.0, 1927.0, 1928.0, 1929.0, 1930.0, 1931.0, 1932.0, 1933.0, 1934.0, 1935.0, 1936.0, 1937.0, 1938.0, 1939.0, 1940.0, 1941.0, 1942.0, 1943.0, 1944.0, 1945.0, 1946.0, 1947.0, 1948.0, 1949.0, 1950.0, 1951.0, 1952.0, 1953.0, 1954.0, 1955.0, 1956.0, 1957.0, 1958.0, 1959.0, 1960.0, 1961.0, 1962.0, 1963.0, 1964.0, 1965.0, 1966.0, 1967.0, 1968.0, 1969.0, 1970.0, 1971.0, 1972.0, 1973.0, 1974.0, 1975.0, 1976.0, 1977.0, 1978.0, 1979.0, 1980.0, 1981.0, 1982.0, 1983.0, 1984.0, 1985.0, 1986.0, 1987.0, 1988.0, 1989.0, 1990.0, 1991.0, 1992.0, 1993.0, 1994.0, 1995.0, 1996.0, 1997.0, 1998.0, 1999.0, 2000.0, 2001.0, 2002.0, 2003.0, 2004.0, 2005.0, 2006.0]\n"
     ]
    }
   ],
   "source": [
    "books.yearOfPublication=pd.to_numeric(books.yearOfPublication, errors='coerce')\n",
    "\n",
    "print(sorted(books['yearOfPublication'].unique()))"
   ]
  },
  {
   "cell_type": "code",
   "execution_count": 20,
   "id": "2c55e0f4",
   "metadata": {},
   "outputs": [
    {
     "data": {
      "text/html": [
       "<div>\n",
       "<style scoped>\n",
       "    .dataframe tbody tr th:only-of-type {\n",
       "        vertical-align: middle;\n",
       "    }\n",
       "\n",
       "    .dataframe tbody tr th {\n",
       "        vertical-align: top;\n",
       "    }\n",
       "\n",
       "    .dataframe thead th {\n",
       "        text-align: right;\n",
       "    }\n",
       "</style>\n",
       "<table border=\"1\" class=\"dataframe\">\n",
       "  <thead>\n",
       "    <tr style=\"text-align: right;\">\n",
       "      <th></th>\n",
       "      <th>ISBN</th>\n",
       "      <th>bookTitle</th>\n",
       "      <th>bookAuthor</th>\n",
       "      <th>yearOfPublication</th>\n",
       "      <th>publisher</th>\n",
       "    </tr>\n",
       "  </thead>\n",
       "  <tbody>\n",
       "    <tr>\n",
       "      <th>128890</th>\n",
       "      <td>193169656X</td>\n",
       "      <td>Tyrant Moon</td>\n",
       "      <td>Elaine Corvidae</td>\n",
       "      <td>2002.0</td>\n",
       "      <td>NaN</td>\n",
       "    </tr>\n",
       "    <tr>\n",
       "      <th>129037</th>\n",
       "      <td>1931696993</td>\n",
       "      <td>Finders Keepers</td>\n",
       "      <td>Linnea Sinclair</td>\n",
       "      <td>2001.0</td>\n",
       "      <td>NaN</td>\n",
       "    </tr>\n",
       "  </tbody>\n",
       "</table>\n",
       "</div>"
      ],
      "text/plain": [
       "              ISBN        bookTitle       bookAuthor  yearOfPublication  \\\n",
       "128890  193169656X  Tyrant Moon      Elaine Corvidae  2002.0              \n",
       "129037  1931696993  Finders Keepers  Linnea Sinclair  2001.0              \n",
       "\n",
       "       publisher  \n",
       "128890  NaN       \n",
       "129037  NaN       "
      ]
     },
     "execution_count": 20,
     "metadata": {},
     "output_type": "execute_result"
    }
   ],
   "source": [
    "books.loc[books.publisher.isnull(),:]"
   ]
  },
  {
   "cell_type": "code",
   "execution_count": 25,
   "id": "f0a7217e",
   "metadata": {},
   "outputs": [],
   "source": [
    "books.loc[(books.ISBN == '193169656X'),'publisher'] = 'other'\n",
    "books.loc[(books.ISBN == '1931696993'),'publisher'] = 'other'"
   ]
  },
  {
   "cell_type": "code",
   "execution_count": 26,
   "id": "f12ee9f3",
   "metadata": {},
   "outputs": [
    {
     "name": "stdout",
     "output_type": "stream",
     "text": [
      "<class 'pandas.core.frame.DataFrame'>\n",
      "RangeIndex: 278858 entries, 0 to 278857\n",
      "Data columns (total 3 columns):\n",
      " #   Column    Non-Null Count   Dtype  \n",
      "---  ------    --------------   -----  \n",
      " 0   User-ID   278858 non-null  int64  \n",
      " 1   Location  278858 non-null  object \n",
      " 2   Age       168096 non-null  float64\n",
      "dtypes: float64(1), int64(1), object(1)\n",
      "memory usage: 6.4+ MB\n"
     ]
    }
   ],
   "source": [
    "users.info()"
   ]
  },
  {
   "cell_type": "code",
   "execution_count": 27,
   "id": "c7bba99f",
   "metadata": {},
   "outputs": [
    {
     "data": {
      "text/plain": [
       "<AxesSubplot: >"
      ]
     },
     "execution_count": 27,
     "metadata": {},
     "output_type": "execute_result"
    },
    {
     "data": {
      "image/png": "[encoded data removed]",
      "text/plain": [
       "<Figure size 1000x700 with 1 Axes>"
      ]
     },
     "metadata": {},
     "output_type": "display_data"
    }
   ],
   "source": [
    "plt.figure(figsize=(10, 7))\n",
    "users.Age.hist(bins=40, color='teal')"
   ]
  },
  {
   "cell_type": "code",
   "execution_count": 29,
   "id": "2d75a652",
   "metadata": {},
   "outputs": [],
   "source": [
    "users.loc[(users.Age > 90) | (users.Age < 5), 'Age'] = np.nan\n",
    "\n",
    "users.Age = users.Age.fillna(users.Age.mean())"
   ]
  },
  {
   "cell_type": "code",
   "execution_count": 31,
   "id": "acb16298",
   "metadata": {},
   "outputs": [
    {
     "data": {
      "text/plain": [
       "<AxesSubplot: >"
      ]
     },
     "execution_count": 31,
     "metadata": {},
     "output_type": "execute_result"
    },
    {
     "data": {
      "image/png": "[encoded data removed]",
      "text/plain": [
       "<Figure size 1000x700 with 1 Axes>"
      ]
     },
     "metadata": {},
     "output_type": "display_data"
    }
   ],
   "source": [
    "plt.figure(figsize=(10, 7))\n",
    "users.Age.hist(bins=40, color='teal')"
   ]
  },
  {
   "cell_type": "code",
   "execution_count": 32,
   "id": "8769d81a",
   "metadata": {},
   "outputs": [
    {
     "data": {
      "text/html": [
       "<div>\n",
       "<style scoped>\n",
       "    .dataframe tbody tr th:only-of-type {\n",
       "        vertical-align: middle;\n",
       "    }\n",
       "\n",
       "    .dataframe tbody tr th {\n",
       "        vertical-align: top;\n",
       "    }\n",
       "\n",
       "    .dataframe thead th {\n",
       "        text-align: right;\n",
       "    }\n",
       "</style>\n",
       "<table border=\"1\" class=\"dataframe\">\n",
       "  <thead>\n",
       "    <tr style=\"text-align: right;\">\n",
       "      <th></th>\n",
       "      <th>User-ID</th>\n",
       "      <th>Location</th>\n",
       "      <th>Age</th>\n",
       "    </tr>\n",
       "  </thead>\n",
       "  <tbody>\n",
       "    <tr>\n",
       "      <th>0</th>\n",
       "      <td>1</td>\n",
       "      <td>nyc, new york, usa</td>\n",
       "      <td>34.72384</td>\n",
       "    </tr>\n",
       "    <tr>\n",
       "      <th>1</th>\n",
       "      <td>2</td>\n",
       "      <td>stockton, california, usa</td>\n",
       "      <td>18.00000</td>\n",
       "    </tr>\n",
       "    <tr>\n",
       "      <th>2</th>\n",
       "      <td>3</td>\n",
       "      <td>moscow, yukon territory, russia</td>\n",
       "      <td>34.72384</td>\n",
       "    </tr>\n",
       "    <tr>\n",
       "      <th>3</th>\n",
       "      <td>4</td>\n",
       "      <td>porto, v.n.gaia, portugal</td>\n",
       "      <td>17.00000</td>\n",
       "    </tr>\n",
       "    <tr>\n",
       "      <th>4</th>\n",
       "      <td>5</td>\n",
       "      <td>farnborough, hants, united kingdom</td>\n",
       "      <td>34.72384</td>\n",
       "    </tr>\n",
       "    <tr>\n",
       "      <th>...</th>\n",
       "      <td>...</td>\n",
       "      <td>...</td>\n",
       "      <td>...</td>\n",
       "    </tr>\n",
       "    <tr>\n",
       "      <th>278853</th>\n",
       "      <td>278854</td>\n",
       "      <td>portland, oregon, usa</td>\n",
       "      <td>34.72384</td>\n",
       "    </tr>\n",
       "    <tr>\n",
       "      <th>278854</th>\n",
       "      <td>278855</td>\n",
       "      <td>tacoma, washington, united kingdom</td>\n",
       "      <td>50.00000</td>\n",
       "    </tr>\n",
       "    <tr>\n",
       "      <th>278855</th>\n",
       "      <td>278856</td>\n",
       "      <td>brampton, ontario, canada</td>\n",
       "      <td>34.72384</td>\n",
       "    </tr>\n",
       "    <tr>\n",
       "      <th>278856</th>\n",
       "      <td>278857</td>\n",
       "      <td>knoxville, tennessee, usa</td>\n",
       "      <td>34.72384</td>\n",
       "    </tr>\n",
       "    <tr>\n",
       "      <th>278857</th>\n",
       "      <td>278858</td>\n",
       "      <td>dublin, n/a, ireland</td>\n",
       "      <td>34.72384</td>\n",
       "    </tr>\n",
       "  </tbody>\n",
       "</table>\n",
       "<p>278858 rows × 3 columns</p>\n",
       "</div>"
      ],
      "text/plain": [
       "        User-ID                            Location       Age\n",
       "0       1        nyc, new york, usa                  34.72384\n",
       "1       2        stockton, california, usa           18.00000\n",
       "2       3        moscow, yukon territory, russia     34.72384\n",
       "3       4        porto, v.n.gaia, portugal           17.00000\n",
       "4       5        farnborough, hants, united kingdom  34.72384\n",
       "...    ..                                       ...       ...\n",
       "278853  278854   portland, oregon, usa               34.72384\n",
       "278854  278855   tacoma, washington, united kingdom  50.00000\n",
       "278855  278856   brampton, ontario, canada           34.72384\n",
       "278856  278857   knoxville, tennessee, usa           34.72384\n",
       "278857  278858   dublin, n/a, ireland                34.72384\n",
       "\n",
       "[278858 rows x 3 columns]"
      ]
     },
     "execution_count": 32,
     "metadata": {},
     "output_type": "execute_result"
    }
   ],
   "source": [
    "users"
   ]
  },
  {
   "cell_type": "code",
   "execution_count": 33,
   "id": "d3e3d2b0",
   "metadata": {},
   "outputs": [],
   "source": [
    "users['City'] = users['Location'].str.split(',').apply(lambda x: x[0])\n",
    "users['Country'] = users['Location'].str.split(',').apply(lambda x: x[-1])"
   ]
  },
  {
   "cell_type": "code",
   "execution_count": 34,
   "id": "ad8aa53e",
   "metadata": {},
   "outputs": [
    {
     "data": {
      "text/html": [
       "<div>\n",
       "<style scoped>\n",
       "    .dataframe tbody tr th:only-of-type {\n",
       "        vertical-align: middle;\n",
       "    }\n",
       "\n",
       "    .dataframe tbody tr th {\n",
       "        vertical-align: top;\n",
       "    }\n",
       "\n",
       "    .dataframe thead th {\n",
       "        text-align: right;\n",
       "    }\n",
       "</style>\n",
       "<table border=\"1\" class=\"dataframe\">\n",
       "  <thead>\n",
       "    <tr style=\"text-align: right;\">\n",
       "      <th></th>\n",
       "      <th>User-ID</th>\n",
       "      <th>Location</th>\n",
       "      <th>Age</th>\n",
       "      <th>City</th>\n",
       "      <th>Country</th>\n",
       "    </tr>\n",
       "  </thead>\n",
       "  <tbody>\n",
       "    <tr>\n",
       "      <th>0</th>\n",
       "      <td>1</td>\n",
       "      <td>nyc, new york, usa</td>\n",
       "      <td>34.72384</td>\n",
       "      <td>nyc</td>\n",
       "      <td>usa</td>\n",
       "    </tr>\n",
       "    <tr>\n",
       "      <th>1</th>\n",
       "      <td>2</td>\n",
       "      <td>stockton, california, usa</td>\n",
       "      <td>18.00000</td>\n",
       "      <td>stockton</td>\n",
       "      <td>usa</td>\n",
       "    </tr>\n",
       "    <tr>\n",
       "      <th>2</th>\n",
       "      <td>3</td>\n",
       "      <td>moscow, yukon territory, russia</td>\n",
       "      <td>34.72384</td>\n",
       "      <td>moscow</td>\n",
       "      <td>russia</td>\n",
       "    </tr>\n",
       "    <tr>\n",
       "      <th>3</th>\n",
       "      <td>4</td>\n",
       "      <td>porto, v.n.gaia, portugal</td>\n",
       "      <td>17.00000</td>\n",
       "      <td>porto</td>\n",
       "      <td>portugal</td>\n",
       "    </tr>\n",
       "    <tr>\n",
       "      <th>4</th>\n",
       "      <td>5</td>\n",
       "      <td>farnborough, hants, united kingdom</td>\n",
       "      <td>34.72384</td>\n",
       "      <td>farnborough</td>\n",
       "      <td>united kingdom</td>\n",
       "    </tr>\n",
       "    <tr>\n",
       "      <th>...</th>\n",
       "      <td>...</td>\n",
       "      <td>...</td>\n",
       "      <td>...</td>\n",
       "      <td>...</td>\n",
       "      <td>...</td>\n",
       "    </tr>\n",
       "    <tr>\n",
       "      <th>278853</th>\n",
       "      <td>278854</td>\n",
       "      <td>portland, oregon, usa</td>\n",
       "      <td>34.72384</td>\n",
       "      <td>portland</td>\n",
       "      <td>usa</td>\n",
       "    </tr>\n",
       "    <tr>\n",
       "      <th>278854</th>\n",
       "      <td>278855</td>\n",
       "      <td>tacoma, washington, united kingdom</td>\n",
       "      <td>50.00000</td>\n",
       "      <td>tacoma</td>\n",
       "      <td>united kingdom</td>\n",
       "    </tr>\n",
       "    <tr>\n",
       "      <th>278855</th>\n",
       "      <td>278856</td>\n",
       "      <td>brampton, ontario, canada</td>\n",
       "      <td>34.72384</td>\n",
       "      <td>brampton</td>\n",
       "      <td>canada</td>\n",
       "    </tr>\n",
       "    <tr>\n",
       "      <th>278856</th>\n",
       "      <td>278857</td>\n",
       "      <td>knoxville, tennessee, usa</td>\n",
       "      <td>34.72384</td>\n",
       "      <td>knoxville</td>\n",
       "      <td>usa</td>\n",
       "    </tr>\n",
       "    <tr>\n",
       "      <th>278857</th>\n",
       "      <td>278858</td>\n",
       "      <td>dublin, n/a, ireland</td>\n",
       "      <td>34.72384</td>\n",
       "      <td>dublin</td>\n",
       "      <td>ireland</td>\n",
       "    </tr>\n",
       "  </tbody>\n",
       "</table>\n",
       "<p>278858 rows × 5 columns</p>\n",
       "</div>"
      ],
      "text/plain": [
       "        User-ID                            Location       Age         City  \\\n",
       "0       1        nyc, new york, usa                  34.72384  nyc           \n",
       "1       2        stockton, california, usa           18.00000  stockton      \n",
       "2       3        moscow, yukon territory, russia     34.72384  moscow        \n",
       "3       4        porto, v.n.gaia, portugal           17.00000  porto         \n",
       "4       5        farnborough, hants, united kingdom  34.72384  farnborough   \n",
       "...    ..                                       ...       ...          ...   \n",
       "278853  278854   portland, oregon, usa               34.72384  portland      \n",
       "278854  278855   tacoma, washington, united kingdom  50.00000  tacoma        \n",
       "278855  278856   brampton, ontario, canada           34.72384  brampton      \n",
       "278856  278857   knoxville, tennessee, usa           34.72384  knoxville     \n",
       "278857  278858   dublin, n/a, ireland                34.72384  dublin        \n",
       "\n",
       "                Country  \n",
       "0        usa             \n",
       "1        usa             \n",
       "2        russia          \n",
       "3        portugal        \n",
       "4        united kingdom  \n",
       "...                 ...  \n",
       "278853   usa             \n",
       "278854   united kingdom  \n",
       "278855   canada          \n",
       "278856   usa             \n",
       "278857   ireland         \n",
       "\n",
       "[278858 rows x 5 columns]"
      ]
     },
     "execution_count": 34,
     "metadata": {},
     "output_type": "execute_result"
    }
   ],
   "source": [
    "users"
   ]
  },
  {
   "cell_type": "code",
   "execution_count": 35,
   "id": "28ce86a1",
   "metadata": {},
   "outputs": [
    {
     "data": {
      "text/plain": [
       "(1149780, 3)"
      ]
     },
     "execution_count": 35,
     "metadata": {},
     "output_type": "execute_result"
    }
   ],
   "source": [
    "ratings.shape"
   ]
  },
  {
   "cell_type": "code",
   "execution_count": 36,
   "id": "138af61e",
   "metadata": {},
   "outputs": [
    {
     "data": {
      "text/plain": [
       "75670906880"
      ]
     },
     "execution_count": 36,
     "metadata": {},
     "output_type": "execute_result"
    }
   ],
   "source": [
    "n_users = users.shape[0]\n",
    "n_books = books.shape[0]\n",
    "n_users * n_books"
   ]
  },
  {
   "cell_type": "code",
   "execution_count": 37,
   "id": "13e0c5fa",
   "metadata": {},
   "outputs": [
    {
     "data": {
      "text/plain": [
       "array([ 0,  5,  3,  6,  8,  7, 10,  9,  4,  1,  2])"
      ]
     },
     "execution_count": 37,
     "metadata": {},
     "output_type": "execute_result"
    }
   ],
   "source": [
    "ratings['Book-Rating'].unique()"
   ]
  },
  {
   "cell_type": "code",
   "execution_count": 38,
   "id": "adf7e4bb",
   "metadata": {},
   "outputs": [
    {
     "data": {
      "text/plain": [
       "((1149780, 3), (1031136, 3))"
      ]
     },
     "execution_count": 38,
     "metadata": {},
     "output_type": "execute_result"
    }
   ],
   "source": [
    "ratings_new = ratings[ratings.ISBN.isin(books.ISBN)]\n",
    "\n",
    "ratings.shape,ratings_new.shape"
   ]
  },
  {
   "cell_type": "code",
   "execution_count": 39,
   "id": "a454b5b2",
   "metadata": {},
   "outputs": [
    {
     "name": "stdout",
     "output_type": "stream",
     "text": [
      "(1149780, 3)\n",
      "(1031136, 3)\n"
     ]
    }
   ],
   "source": [
    "ratings = ratings[ratings['User-ID'].isin(users['User-ID'])]\n",
    "\n",
    "print(ratings.shape)\n",
    "print(ratings_new.shape)"
   ]
  },
  {
   "cell_type": "code",
   "execution_count": 40,
   "id": "cd10fa9e",
   "metadata": {},
   "outputs": [
    {
     "data": {
      "text/plain": [
       "array([ 0,  5,  3,  6,  8,  7, 10,  9,  4,  1,  2])"
      ]
     },
     "execution_count": 40,
     "metadata": {},
     "output_type": "execute_result"
    }
   ],
   "source": [
    "ratings['Book-Rating'].unique()"
   ]
  },
  {
   "cell_type": "code",
   "execution_count": 41,
   "id": "5332c0a5",
   "metadata": {},
   "outputs": [],
   "source": [
    "ratings_explicit = ratings_new[ratings_new['Book-Rating'] != 0]\n",
    "ratings_implicit = ratings_new[ratings_new['Book-Rating'] == 0]"
   ]
  },
  {
   "cell_type": "code",
   "execution_count": 42,
   "id": "ef3c4855",
   "metadata": {},
   "outputs": [
    {
     "name": "stdout",
     "output_type": "stream",
     "text": [
      "(1031136, 3)\n",
      "(383842, 3)\n",
      "(647294, 3)\n"
     ]
    },
    {
     "data": {
      "text/plain": [
       "<AxesSubplot: xlabel='Book-Rating', ylabel='count'>"
      ]
     },
     "execution_count": 42,
     "metadata": {},
     "output_type": "execute_result"
    },
    {
     "data": {
      "image/png": "[encoded data removed]",
      "text/plain": [
       "<Figure size 1200x800 with 1 Axes>"
      ]
     },
     "metadata": {},
     "output_type": "display_data"
    }
   ],
   "source": [
    "print(ratings_new.shape)\n",
    "print(ratings_explicit.shape)\n",
    "print(ratings_implicit.shape)\n",
    "plt.style.use('fivethirtyeight')\n",
    "plt.figure(figsize=(12, 8))\n",
    "sns.countplot(data=ratings_explicit , x='Book-Rating', palette='rocket_r')"
   ]
  },
  {
   "cell_type": "markdown",
   "id": "b467e9d7",
   "metadata": {},
   "source": [
    "### Top Popularity Based Recommendations"
   ]
  },
  {
   "cell_type": "code",
   "execution_count": 43,
   "id": "ebaa3699",
   "metadata": {},
   "outputs": [
    {
     "data": {
      "text/html": [
       "<div>\n",
       "<style scoped>\n",
       "    .dataframe tbody tr th:only-of-type {\n",
       "        vertical-align: middle;\n",
       "    }\n",
       "\n",
       "    .dataframe tbody tr th {\n",
       "        vertical-align: top;\n",
       "    }\n",
       "\n",
       "    .dataframe thead th {\n",
       "        text-align: right;\n",
       "    }\n",
       "</style>\n",
       "<table border=\"1\" class=\"dataframe\">\n",
       "  <thead>\n",
       "    <tr style=\"text-align: right;\">\n",
       "      <th></th>\n",
       "      <th>Book-Rating</th>\n",
       "      <th>ISBN</th>\n",
       "      <th>bookTitle</th>\n",
       "      <th>bookAuthor</th>\n",
       "      <th>yearOfPublication</th>\n",
       "      <th>publisher</th>\n",
       "    </tr>\n",
       "  </thead>\n",
       "  <tbody>\n",
       "    <tr>\n",
       "      <th>408</th>\n",
       "      <td>5787</td>\n",
       "      <td>0316666343</td>\n",
       "      <td>The Lovely Bones: A Novel</td>\n",
       "      <td>Alice Sebold</td>\n",
       "      <td>2002.0</td>\n",
       "      <td>Little, Brown</td>\n",
       "    </tr>\n",
       "    <tr>\n",
       "      <th>748</th>\n",
       "      <td>4108</td>\n",
       "      <td>0385504209</td>\n",
       "      <td>The Da Vinci Code</td>\n",
       "      <td>Dan Brown</td>\n",
       "      <td>2003.0</td>\n",
       "      <td>Doubleday</td>\n",
       "    </tr>\n",
       "    <tr>\n",
       "      <th>522</th>\n",
       "      <td>3134</td>\n",
       "      <td>0312195516</td>\n",
       "      <td>The Red Tent (Bestselling Backlist)</td>\n",
       "      <td>Anita Diamant</td>\n",
       "      <td>1998.0</td>\n",
       "      <td>Picador USA</td>\n",
       "    </tr>\n",
       "    <tr>\n",
       "      <th>2143</th>\n",
       "      <td>2798</td>\n",
       "      <td>059035342X</td>\n",
       "      <td>Harry Potter and the Sorcerer's Stone (Harry Potter (Paperback))</td>\n",
       "      <td>J. K. Rowling</td>\n",
       "      <td>1999.0</td>\n",
       "      <td>Arthur A. Levine Books</td>\n",
       "    </tr>\n",
       "    <tr>\n",
       "      <th>356</th>\n",
       "      <td>2595</td>\n",
       "      <td>0142001740</td>\n",
       "      <td>The Secret Life of Bees</td>\n",
       "      <td>Sue Monk Kidd</td>\n",
       "      <td>2003.0</td>\n",
       "      <td>Penguin Books</td>\n",
       "    </tr>\n",
       "    <tr>\n",
       "      <th>26</th>\n",
       "      <td>2551</td>\n",
       "      <td>0971880107</td>\n",
       "      <td>Wild Animus</td>\n",
       "      <td>Rich Shapero</td>\n",
       "      <td>2004.0</td>\n",
       "      <td>Too Far</td>\n",
       "    </tr>\n",
       "    <tr>\n",
       "      <th>1105</th>\n",
       "      <td>2524</td>\n",
       "      <td>0060928336</td>\n",
       "      <td>Divine Secrets of the Ya-Ya Sisterhood: A Novel</td>\n",
       "      <td>Rebecca Wells</td>\n",
       "      <td>1997.0</td>\n",
       "      <td>Perennial</td>\n",
       "    </tr>\n",
       "    <tr>\n",
       "      <th>706</th>\n",
       "      <td>2402</td>\n",
       "      <td>0446672211</td>\n",
       "      <td>Where the Heart Is (Oprah's Book Club (Paperback))</td>\n",
       "      <td>Billie Letts</td>\n",
       "      <td>1998.0</td>\n",
       "      <td>Warner Books</td>\n",
       "    </tr>\n",
       "    <tr>\n",
       "      <th>231</th>\n",
       "      <td>2219</td>\n",
       "      <td>0452282152</td>\n",
       "      <td>Girl with a Pearl Earring</td>\n",
       "      <td>Tracy Chevalier</td>\n",
       "      <td>2001.0</td>\n",
       "      <td>Plume Books</td>\n",
       "    </tr>\n",
       "    <tr>\n",
       "      <th>118</th>\n",
       "      <td>2179</td>\n",
       "      <td>0671027360</td>\n",
       "      <td>Angels &amp;amp; Demons</td>\n",
       "      <td>Dan Brown</td>\n",
       "      <td>2001.0</td>\n",
       "      <td>Pocket Star</td>\n",
       "    </tr>\n",
       "  </tbody>\n",
       "</table>\n",
       "</div>"
      ],
      "text/plain": [
       "      Book-Rating        ISBN  \\\n",
       "408   5787         0316666343   \n",
       "748   4108         0385504209   \n",
       "522   3134         0312195516   \n",
       "2143  2798         059035342X   \n",
       "356   2595         0142001740   \n",
       "26    2551         0971880107   \n",
       "1105  2524         0060928336   \n",
       "706   2402         0446672211   \n",
       "231   2219         0452282152   \n",
       "118   2179         0671027360   \n",
       "\n",
       "                                                             bookTitle  \\\n",
       "408   The Lovely Bones: A Novel                                          \n",
       "748   The Da Vinci Code                                                  \n",
       "522   The Red Tent (Bestselling Backlist)                                \n",
       "2143  Harry Potter and the Sorcerer's Stone (Harry Potter (Paperback))   \n",
       "356   The Secret Life of Bees                                            \n",
       "26    Wild Animus                                                        \n",
       "1105  Divine Secrets of the Ya-Ya Sisterhood: A Novel                    \n",
       "706   Where the Heart Is (Oprah's Book Club (Paperback))                 \n",
       "231   Girl with a Pearl Earring                                          \n",
       "118   Angels &amp; Demons                                                \n",
       "\n",
       "           bookAuthor  yearOfPublication               publisher  \n",
       "408   Alice Sebold     2002.0             Little, Brown           \n",
       "748   Dan Brown        2003.0             Doubleday               \n",
       "522   Anita Diamant    1998.0             Picador USA             \n",
       "2143  J. K. Rowling    1999.0             Arthur A. Levine Books  \n",
       "356   Sue Monk Kidd    2003.0             Penguin Books           \n",
       "26    Rich Shapero     2004.0             Too Far                 \n",
       "1105  Rebecca Wells    1997.0             Perennial               \n",
       "706   Billie Letts     1998.0             Warner Books            \n",
       "231   Tracy Chevalier  2001.0             Plume Books             \n",
       "118   Dan Brown        2001.0             Pocket Star             "
      ]
     },
     "execution_count": 43,
     "metadata": {},
     "output_type": "execute_result"
    }
   ],
   "source": [
    "ratings_count = pd.DataFrame(ratings_explicit.groupby(['ISBN'])['Book-Rating'].sum())\n",
    "top10 = ratings_count.sort_values('Book-Rating', ascending = False).head(10)\n",
    "\n",
    "top10.merge(books, left_index = True, right_on = 'ISBN')"
   ]
  },
  {
   "cell_type": "code",
   "execution_count": 44,
   "id": "7154e873",
   "metadata": {},
   "outputs": [],
   "source": [
    "users_exp_ratings = users[users['User-ID'].isin(ratings_explicit['User-ID'])]\n",
    "users_imp_ratings = users[users['User-ID'].isin(ratings_implicit['User-ID'])]"
   ]
  },
  {
   "cell_type": "code",
   "execution_count": 45,
   "id": "3c38ccf8",
   "metadata": {},
   "outputs": [
    {
     "name": "stdout",
     "output_type": "stream",
     "text": [
      "(278858, 5)\n",
      "(68091, 5)\n",
      "(52451, 5)\n"
     ]
    }
   ],
   "source": [
    "print(users.shape)\n",
    "print(users_exp_ratings.shape)\n",
    "print(users_imp_ratings.shape)"
   ]
  },
  {
   "cell_type": "code",
   "execution_count": 47,
   "id": "c30c2847",
   "metadata": {},
   "outputs": [],
   "source": [
    "books_ratings = books.merge(ratings, on = 'ISBN', how = 'outer')"
   ]
  },
  {
   "cell_type": "code",
   "execution_count": 48,
   "id": "e5862ca3",
   "metadata": {},
   "outputs": [
    {
     "data": {
      "text/html": [
       "<div>\n",
       "<style scoped>\n",
       "    .dataframe tbody tr th:only-of-type {\n",
       "        vertical-align: middle;\n",
       "    }\n",
       "\n",
       "    .dataframe tbody tr th {\n",
       "        vertical-align: top;\n",
       "    }\n",
       "\n",
       "    .dataframe thead th {\n",
       "        text-align: right;\n",
       "    }\n",
       "</style>\n",
       "<table border=\"1\" class=\"dataframe\">\n",
       "  <thead>\n",
       "    <tr style=\"text-align: right;\">\n",
       "      <th></th>\n",
       "      <th>ISBN</th>\n",
       "      <th>bookTitle</th>\n",
       "      <th>bookAuthor</th>\n",
       "      <th>yearOfPublication</th>\n",
       "      <th>publisher</th>\n",
       "      <th>User-ID</th>\n",
       "      <th>Book-Rating</th>\n",
       "    </tr>\n",
       "  </thead>\n",
       "  <tbody>\n",
       "    <tr>\n",
       "      <th>0</th>\n",
       "      <td>0195153448</td>\n",
       "      <td>Classical Mythology</td>\n",
       "      <td>Mark P. O. Morford</td>\n",
       "      <td>2002.0</td>\n",
       "      <td>Oxford University Press</td>\n",
       "      <td>2.0</td>\n",
       "      <td>0.0</td>\n",
       "    </tr>\n",
       "    <tr>\n",
       "      <th>1</th>\n",
       "      <td>0002005018</td>\n",
       "      <td>Clara Callan</td>\n",
       "      <td>Richard Bruce Wright</td>\n",
       "      <td>2001.0</td>\n",
       "      <td>HarperFlamingo Canada</td>\n",
       "      <td>8.0</td>\n",
       "      <td>5.0</td>\n",
       "    </tr>\n",
       "    <tr>\n",
       "      <th>2</th>\n",
       "      <td>0002005018</td>\n",
       "      <td>Clara Callan</td>\n",
       "      <td>Richard Bruce Wright</td>\n",
       "      <td>2001.0</td>\n",
       "      <td>HarperFlamingo Canada</td>\n",
       "      <td>11400.0</td>\n",
       "      <td>0.0</td>\n",
       "    </tr>\n",
       "    <tr>\n",
       "      <th>3</th>\n",
       "      <td>0002005018</td>\n",
       "      <td>Clara Callan</td>\n",
       "      <td>Richard Bruce Wright</td>\n",
       "      <td>2001.0</td>\n",
       "      <td>HarperFlamingo Canada</td>\n",
       "      <td>11676.0</td>\n",
       "      <td>8.0</td>\n",
       "    </tr>\n",
       "    <tr>\n",
       "      <th>4</th>\n",
       "      <td>0002005018</td>\n",
       "      <td>Clara Callan</td>\n",
       "      <td>Richard Bruce Wright</td>\n",
       "      <td>2001.0</td>\n",
       "      <td>HarperFlamingo Canada</td>\n",
       "      <td>41385.0</td>\n",
       "      <td>0.0</td>\n",
       "    </tr>\n",
       "    <tr>\n",
       "      <th>5</th>\n",
       "      <td>0002005018</td>\n",
       "      <td>Clara Callan</td>\n",
       "      <td>Richard Bruce Wright</td>\n",
       "      <td>2001.0</td>\n",
       "      <td>HarperFlamingo Canada</td>\n",
       "      <td>67544.0</td>\n",
       "      <td>8.0</td>\n",
       "    </tr>\n",
       "    <tr>\n",
       "      <th>6</th>\n",
       "      <td>0002005018</td>\n",
       "      <td>Clara Callan</td>\n",
       "      <td>Richard Bruce Wright</td>\n",
       "      <td>2001.0</td>\n",
       "      <td>HarperFlamingo Canada</td>\n",
       "      <td>85526.0</td>\n",
       "      <td>0.0</td>\n",
       "    </tr>\n",
       "    <tr>\n",
       "      <th>7</th>\n",
       "      <td>0002005018</td>\n",
       "      <td>Clara Callan</td>\n",
       "      <td>Richard Bruce Wright</td>\n",
       "      <td>2001.0</td>\n",
       "      <td>HarperFlamingo Canada</td>\n",
       "      <td>96054.0</td>\n",
       "      <td>0.0</td>\n",
       "    </tr>\n",
       "    <tr>\n",
       "      <th>8</th>\n",
       "      <td>0002005018</td>\n",
       "      <td>Clara Callan</td>\n",
       "      <td>Richard Bruce Wright</td>\n",
       "      <td>2001.0</td>\n",
       "      <td>HarperFlamingo Canada</td>\n",
       "      <td>116866.0</td>\n",
       "      <td>9.0</td>\n",
       "    </tr>\n",
       "    <tr>\n",
       "      <th>9</th>\n",
       "      <td>0002005018</td>\n",
       "      <td>Clara Callan</td>\n",
       "      <td>Richard Bruce Wright</td>\n",
       "      <td>2001.0</td>\n",
       "      <td>HarperFlamingo Canada</td>\n",
       "      <td>123629.0</td>\n",
       "      <td>9.0</td>\n",
       "    </tr>\n",
       "    <tr>\n",
       "      <th>10</th>\n",
       "      <td>0002005018</td>\n",
       "      <td>Clara Callan</td>\n",
       "      <td>Richard Bruce Wright</td>\n",
       "      <td>2001.0</td>\n",
       "      <td>HarperFlamingo Canada</td>\n",
       "      <td>177458.0</td>\n",
       "      <td>0.0</td>\n",
       "    </tr>\n",
       "    <tr>\n",
       "      <th>11</th>\n",
       "      <td>0002005018</td>\n",
       "      <td>Clara Callan</td>\n",
       "      <td>Richard Bruce Wright</td>\n",
       "      <td>2001.0</td>\n",
       "      <td>HarperFlamingo Canada</td>\n",
       "      <td>200273.0</td>\n",
       "      <td>8.0</td>\n",
       "    </tr>\n",
       "    <tr>\n",
       "      <th>12</th>\n",
       "      <td>0002005018</td>\n",
       "      <td>Clara Callan</td>\n",
       "      <td>Richard Bruce Wright</td>\n",
       "      <td>2001.0</td>\n",
       "      <td>HarperFlamingo Canada</td>\n",
       "      <td>210926.0</td>\n",
       "      <td>9.0</td>\n",
       "    </tr>\n",
       "    <tr>\n",
       "      <th>13</th>\n",
       "      <td>0002005018</td>\n",
       "      <td>Clara Callan</td>\n",
       "      <td>Richard Bruce Wright</td>\n",
       "      <td>2001.0</td>\n",
       "      <td>HarperFlamingo Canada</td>\n",
       "      <td>219008.0</td>\n",
       "      <td>7.0</td>\n",
       "    </tr>\n",
       "    <tr>\n",
       "      <th>14</th>\n",
       "      <td>0002005018</td>\n",
       "      <td>Clara Callan</td>\n",
       "      <td>Richard Bruce Wright</td>\n",
       "      <td>2001.0</td>\n",
       "      <td>HarperFlamingo Canada</td>\n",
       "      <td>263325.0</td>\n",
       "      <td>6.0</td>\n",
       "    </tr>\n",
       "  </tbody>\n",
       "</table>\n",
       "</div>"
      ],
      "text/plain": [
       "          ISBN            bookTitle            bookAuthor  yearOfPublication  \\\n",
       "0   0195153448  Classical Mythology  Mark P. O. Morford    2002.0              \n",
       "1   0002005018  Clara Callan         Richard Bruce Wright  2001.0              \n",
       "2   0002005018  Clara Callan         Richard Bruce Wright  2001.0              \n",
       "3   0002005018  Clara Callan         Richard Bruce Wright  2001.0              \n",
       "4   0002005018  Clara Callan         Richard Bruce Wright  2001.0              \n",
       "5   0002005018  Clara Callan         Richard Bruce Wright  2001.0              \n",
       "6   0002005018  Clara Callan         Richard Bruce Wright  2001.0              \n",
       "7   0002005018  Clara Callan         Richard Bruce Wright  2001.0              \n",
       "8   0002005018  Clara Callan         Richard Bruce Wright  2001.0              \n",
       "9   0002005018  Clara Callan         Richard Bruce Wright  2001.0              \n",
       "10  0002005018  Clara Callan         Richard Bruce Wright  2001.0              \n",
       "11  0002005018  Clara Callan         Richard Bruce Wright  2001.0              \n",
       "12  0002005018  Clara Callan         Richard Bruce Wright  2001.0              \n",
       "13  0002005018  Clara Callan         Richard Bruce Wright  2001.0              \n",
       "14  0002005018  Clara Callan         Richard Bruce Wright  2001.0              \n",
       "\n",
       "                  publisher   User-ID  Book-Rating  \n",
       "0   Oxford University Press  2.0       0.0          \n",
       "1   HarperFlamingo Canada    8.0       5.0          \n",
       "2   HarperFlamingo Canada    11400.0   0.0          \n",
       "3   HarperFlamingo Canada    11676.0   8.0          \n",
       "4   HarperFlamingo Canada    41385.0   0.0          \n",
       "5   HarperFlamingo Canada    67544.0   8.0          \n",
       "6   HarperFlamingo Canada    85526.0   0.0          \n",
       "7   HarperFlamingo Canada    96054.0   0.0          \n",
       "8   HarperFlamingo Canada    116866.0  9.0          \n",
       "9   HarperFlamingo Canada    123629.0  9.0          \n",
       "10  HarperFlamingo Canada    177458.0  0.0          \n",
       "11  HarperFlamingo Canada    200273.0  8.0          \n",
       "12  HarperFlamingo Canada    210926.0  9.0          \n",
       "13  HarperFlamingo Canada    219008.0  7.0          \n",
       "14  HarperFlamingo Canada    263325.0  6.0          "
      ]
     },
     "execution_count": 48,
     "metadata": {},
     "output_type": "execute_result"
    }
   ],
   "source": [
    "books_ratings.head(15)"
   ]
  },
  {
   "cell_type": "code",
   "execution_count": 49,
   "id": "c9972457",
   "metadata": {},
   "outputs": [],
   "source": [
    "books_ratings_users = books_ratings.merge(users, on = 'User-ID', indicator = True)"
   ]
  },
  {
   "cell_type": "code",
   "execution_count": 50,
   "id": "9edb48ed",
   "metadata": {},
   "outputs": [
    {
     "data": {
      "text/html": [
       "<div>\n",
       "<style scoped>\n",
       "    .dataframe tbody tr th:only-of-type {\n",
       "        vertical-align: middle;\n",
       "    }\n",
       "\n",
       "    .dataframe tbody tr th {\n",
       "        vertical-align: top;\n",
       "    }\n",
       "\n",
       "    .dataframe thead th {\n",
       "        text-align: right;\n",
       "    }\n",
       "</style>\n",
       "<table border=\"1\" class=\"dataframe\">\n",
       "  <thead>\n",
       "    <tr style=\"text-align: right;\">\n",
       "      <th></th>\n",
       "      <th>yearOfPublication</th>\n",
       "      <th>User-ID</th>\n",
       "      <th>Book-Rating</th>\n",
       "      <th>Age</th>\n",
       "    </tr>\n",
       "  </thead>\n",
       "  <tbody>\n",
       "    <tr>\n",
       "      <th>count</th>\n",
       "      <td>1.031136e+06</td>\n",
       "      <td>1.149780e+06</td>\n",
       "      <td>1.149780e+06</td>\n",
       "      <td>1.149780e+06</td>\n",
       "    </tr>\n",
       "    <tr>\n",
       "      <th>mean</th>\n",
       "      <td>1.995283e+03</td>\n",
       "      <td>1.403864e+05</td>\n",
       "      <td>2.866950e+00</td>\n",
       "      <td>3.628041e+01</td>\n",
       "    </tr>\n",
       "    <tr>\n",
       "      <th>std</th>\n",
       "      <td>7.309099e+00</td>\n",
       "      <td>8.056228e+04</td>\n",
       "      <td>3.854184e+00</td>\n",
       "      <td>1.029129e+01</td>\n",
       "    </tr>\n",
       "    <tr>\n",
       "      <th>min</th>\n",
       "      <td>1.376000e+03</td>\n",
       "      <td>2.000000e+00</td>\n",
       "      <td>0.000000e+00</td>\n",
       "      <td>5.000000e+00</td>\n",
       "    </tr>\n",
       "    <tr>\n",
       "      <th>25%</th>\n",
       "      <td>1.992000e+03</td>\n",
       "      <td>7.034500e+04</td>\n",
       "      <td>0.000000e+00</td>\n",
       "      <td>3.100000e+01</td>\n",
       "    </tr>\n",
       "    <tr>\n",
       "      <th>50%</th>\n",
       "      <td>1.997000e+03</td>\n",
       "      <td>1.410100e+05</td>\n",
       "      <td>0.000000e+00</td>\n",
       "      <td>3.472384e+01</td>\n",
       "    </tr>\n",
       "    <tr>\n",
       "      <th>75%</th>\n",
       "      <td>2.001000e+03</td>\n",
       "      <td>2.110280e+05</td>\n",
       "      <td>7.000000e+00</td>\n",
       "      <td>4.100000e+01</td>\n",
       "    </tr>\n",
       "    <tr>\n",
       "      <th>max</th>\n",
       "      <td>2.006000e+03</td>\n",
       "      <td>2.788540e+05</td>\n",
       "      <td>1.000000e+01</td>\n",
       "      <td>9.000000e+01</td>\n",
       "    </tr>\n",
       "  </tbody>\n",
       "</table>\n",
       "</div>"
      ],
      "text/plain": [
       "       yearOfPublication       User-ID   Book-Rating           Age\n",
       "count  1.031136e+06       1.149780e+06  1.149780e+06  1.149780e+06\n",
       "mean   1.995283e+03       1.403864e+05  2.866950e+00  3.628041e+01\n",
       "std    7.309099e+00       8.056228e+04  3.854184e+00  1.029129e+01\n",
       "min    1.376000e+03       2.000000e+00  0.000000e+00  5.000000e+00\n",
       "25%    1.992000e+03       7.034500e+04  0.000000e+00  3.100000e+01\n",
       "50%    1.997000e+03       1.410100e+05  0.000000e+00  3.472384e+01\n",
       "75%    2.001000e+03       2.110280e+05  7.000000e+00  4.100000e+01\n",
       "max    2.006000e+03       2.788540e+05  1.000000e+01  9.000000e+01"
      ]
     },
     "execution_count": 50,
     "metadata": {},
     "output_type": "execute_result"
    }
   ],
   "source": [
    "books_ratings_users.describe()"
   ]
  },
  {
   "cell_type": "code",
   "execution_count": 51,
   "id": "2e5eef5d",
   "metadata": {},
   "outputs": [
    {
     "data": {
      "text/plain": [
       "(1149780, 12)"
      ]
     },
     "execution_count": 51,
     "metadata": {},
     "output_type": "execute_result"
    }
   ],
   "source": [
    "books_ratings_users.shape"
   ]
  },
  {
   "cell_type": "code",
   "execution_count": 52,
   "id": "3f988c39",
   "metadata": {},
   "outputs": [
    {
     "data": {
      "text/plain": [
       "Index(['ISBN', 'bookTitle', 'bookAuthor', 'yearOfPublication', 'publisher',\n",
       "       'User-ID', 'Book-Rating', 'Location', 'Age', 'City', 'Country',\n",
       "       '_merge'],\n",
       "      dtype='object')"
      ]
     },
     "execution_count": 52,
     "metadata": {},
     "output_type": "execute_result"
    }
   ],
   "source": [
    "books_ratings_users.columns"
   ]
  },
  {
   "cell_type": "code",
   "execution_count": 53,
   "id": "92099629",
   "metadata": {},
   "outputs": [],
   "source": [
    "books_ratings_users = books_ratings_users.drop(columns =['_merge'])"
   ]
  },
  {
   "cell_type": "code",
   "execution_count": 54,
   "id": "34bc84c9",
   "metadata": {},
   "outputs": [
    {
     "data": {
      "text/plain": [
       "ISBN                 0     \n",
       "bookTitle            118644\n",
       "bookAuthor           118645\n",
       "yearOfPublication    118644\n",
       "publisher            118644\n",
       "User-ID              0     \n",
       "Book-Rating          0     \n",
       "Location             0     \n",
       "Age                  0     \n",
       "City                 0     \n",
       "Country              0     \n",
       "dtype: int64"
      ]
     },
     "execution_count": 54,
     "metadata": {},
     "output_type": "execute_result"
    }
   ],
   "source": [
    "books_ratings_users.isnull().sum()"
   ]
  },
  {
   "cell_type": "code",
   "execution_count": 55,
   "id": "df32ca8b",
   "metadata": {},
   "outputs": [
    {
     "data": {
      "text/plain": [
       "(0, 11)"
      ]
     },
     "execution_count": 55,
     "metadata": {},
     "output_type": "execute_result"
    }
   ],
   "source": [
    "df_dups = books_ratings_users[books_ratings_users.duplicated()]\n",
    "df_dups.shape"
   ]
  },
  {
   "cell_type": "code",
   "execution_count": 59,
   "id": "0a7facde",
   "metadata": {},
   "outputs": [],
   "source": [
    "books_ratings_users[['bookTitle','bookAuthor', 'publisher' ]] = books_ratings_users[['bookTitle','bookAuthor', 'publisher' ]].fillna('Unknown')"
   ]
  },
  {
   "cell_type": "code",
   "execution_count": 60,
   "id": "db8f79ae",
   "metadata": {},
   "outputs": [
    {
     "data": {
      "text/html": [
       "<div>\n",
       "<style scoped>\n",
       "    .dataframe tbody tr th:only-of-type {\n",
       "        vertical-align: middle;\n",
       "    }\n",
       "\n",
       "    .dataframe tbody tr th {\n",
       "        vertical-align: top;\n",
       "    }\n",
       "\n",
       "    .dataframe thead th {\n",
       "        text-align: right;\n",
       "    }\n",
       "</style>\n",
       "<table border=\"1\" class=\"dataframe\">\n",
       "  <thead>\n",
       "    <tr style=\"text-align: right;\">\n",
       "      <th></th>\n",
       "      <th>ISBN</th>\n",
       "      <th>bookTitle</th>\n",
       "      <th>bookAuthor</th>\n",
       "      <th>yearOfPublication</th>\n",
       "      <th>publisher</th>\n",
       "      <th>User-ID</th>\n",
       "      <th>Book-Rating</th>\n",
       "      <th>Location</th>\n",
       "      <th>Age</th>\n",
       "      <th>City</th>\n",
       "      <th>Country</th>\n",
       "    </tr>\n",
       "  </thead>\n",
       "  <tbody>\n",
       "    <tr>\n",
       "      <th>1149775</th>\n",
       "      <td>8886661975</td>\n",
       "      <td>Unknown</td>\n",
       "      <td>Unknown</td>\n",
       "      <td>NaN</td>\n",
       "      <td>Unknown</td>\n",
       "      <td>276448.0</td>\n",
       "      <td>10.0</td>\n",
       "      <td>torre del greco, campania, italy</td>\n",
       "      <td>34.72384</td>\n",
       "      <td>torre del greco</td>\n",
       "      <td>italy</td>\n",
       "    </tr>\n",
       "    <tr>\n",
       "      <th>1149776</th>\n",
       "      <td>7222025634</td>\n",
       "      <td>Unknown</td>\n",
       "      <td>Unknown</td>\n",
       "      <td>NaN</td>\n",
       "      <td>Unknown</td>\n",
       "      <td>276638.0</td>\n",
       "      <td>10.0</td>\n",
       "      <td>shanghai, n/a, china</td>\n",
       "      <td>32.00000</td>\n",
       "      <td>shanghai</td>\n",
       "      <td>china</td>\n",
       "    </tr>\n",
       "    <tr>\n",
       "      <th>1149777</th>\n",
       "      <td>0533233661</td>\n",
       "      <td>Unknown</td>\n",
       "      <td>Unknown</td>\n",
       "      <td>NaN</td>\n",
       "      <td>Unknown</td>\n",
       "      <td>276663.0</td>\n",
       "      <td>5.0</td>\n",
       "      <td>santiago de compostela, galicia, spain</td>\n",
       "      <td>20.00000</td>\n",
       "      <td>santiago de compostela</td>\n",
       "      <td>spain</td>\n",
       "    </tr>\n",
       "    <tr>\n",
       "      <th>1149778</th>\n",
       "      <td>3423120754</td>\n",
       "      <td>Unknown</td>\n",
       "      <td>Unknown</td>\n",
       "      <td>NaN</td>\n",
       "      <td>Unknown</td>\n",
       "      <td>276668.0</td>\n",
       "      <td>8.0</td>\n",
       "      <td>mülheim an der ruhr, nordrhein-westfalen, germany</td>\n",
       "      <td>34.72384</td>\n",
       "      <td>mülheim an der ruhr</td>\n",
       "      <td>germany</td>\n",
       "    </tr>\n",
       "    <tr>\n",
       "      <th>1149779</th>\n",
       "      <td>05162443314</td>\n",
       "      <td>Unknown</td>\n",
       "      <td>Unknown</td>\n",
       "      <td>NaN</td>\n",
       "      <td>Unknown</td>\n",
       "      <td>276723.0</td>\n",
       "      <td>8.0</td>\n",
       "      <td>san antonio, texas, usa</td>\n",
       "      <td>12.00000</td>\n",
       "      <td>san antonio</td>\n",
       "      <td>usa</td>\n",
       "    </tr>\n",
       "  </tbody>\n",
       "</table>\n",
       "</div>"
      ],
      "text/plain": [
       "                ISBN bookTitle bookAuthor  yearOfPublication publisher  \\\n",
       "1149775  8886661975   Unknown   Unknown   NaN                 Unknown    \n",
       "1149776  7222025634   Unknown   Unknown   NaN                 Unknown    \n",
       "1149777  0533233661   Unknown   Unknown   NaN                 Unknown    \n",
       "1149778  3423120754   Unknown   Unknown   NaN                 Unknown    \n",
       "1149779  05162443314  Unknown   Unknown   NaN                 Unknown    \n",
       "\n",
       "          User-ID  Book-Rating  \\\n",
       "1149775  276448.0  10.0          \n",
       "1149776  276638.0  10.0          \n",
       "1149777  276663.0  5.0           \n",
       "1149778  276668.0  8.0           \n",
       "1149779  276723.0  8.0           \n",
       "\n",
       "                                                  Location       Age  \\\n",
       "1149775  torre del greco, campania, italy                   34.72384   \n",
       "1149776  shanghai, n/a, china                               32.00000   \n",
       "1149777  santiago de compostela, galicia, spain             20.00000   \n",
       "1149778  mülheim an der ruhr, nordrhein-westfalen, germany  34.72384   \n",
       "1149779  san antonio, texas, usa                            12.00000   \n",
       "\n",
       "                           City   Country  \n",
       "1149775  torre del greco          italy    \n",
       "1149776  shanghai                 china    \n",
       "1149777  santiago de compostela   spain    \n",
       "1149778  mülheim an der ruhr      germany  \n",
       "1149779  san antonio              usa      "
      ]
     },
     "execution_count": 60,
     "metadata": {},
     "output_type": "execute_result"
    }
   ],
   "source": [
    "books_ratings_users.tail()"
   ]
  },
  {
   "cell_type": "code",
   "execution_count": 61,
   "id": "b69d4461",
   "metadata": {},
   "outputs": [],
   "source": [
    "explicit = books_ratings_users[books_ratings_users['Book-Rating'] != 0]\n",
    "implicit = books_ratings_users[books_ratings_users['Book-Rating'] == 0]"
   ]
  },
  {
   "cell_type": "code",
   "execution_count": 62,
   "id": "98c9c1bb",
   "metadata": {},
   "outputs": [
    {
     "data": {
      "text/html": [
       "<div>\n",
       "<style scoped>\n",
       "    .dataframe tbody tr th:only-of-type {\n",
       "        vertical-align: middle;\n",
       "    }\n",
       "\n",
       "    .dataframe tbody tr th {\n",
       "        vertical-align: top;\n",
       "    }\n",
       "\n",
       "    .dataframe thead th {\n",
       "        text-align: right;\n",
       "    }\n",
       "</style>\n",
       "<table border=\"1\" class=\"dataframe\">\n",
       "  <thead>\n",
       "    <tr style=\"text-align: right;\">\n",
       "      <th></th>\n",
       "      <th>ISBN</th>\n",
       "      <th>bookTitle</th>\n",
       "      <th>bookAuthor</th>\n",
       "      <th>yearOfPublication</th>\n",
       "      <th>publisher</th>\n",
       "      <th>User-ID</th>\n",
       "      <th>Book-Rating</th>\n",
       "      <th>Location</th>\n",
       "      <th>Age</th>\n",
       "      <th>City</th>\n",
       "      <th>Country</th>\n",
       "    </tr>\n",
       "  </thead>\n",
       "  <tbody>\n",
       "    <tr>\n",
       "      <th>1</th>\n",
       "      <td>0002005018</td>\n",
       "      <td>Clara Callan</td>\n",
       "      <td>Richard Bruce Wright</td>\n",
       "      <td>2001.0</td>\n",
       "      <td>HarperFlamingo Canada</td>\n",
       "      <td>8.0</td>\n",
       "      <td>5.0</td>\n",
       "      <td>timmins, ontario, canada</td>\n",
       "      <td>34.72384</td>\n",
       "      <td>timmins</td>\n",
       "      <td>canada</td>\n",
       "    </tr>\n",
       "    <tr>\n",
       "      <th>9</th>\n",
       "      <td>074322678X</td>\n",
       "      <td>Where You'll Find Me: And Other Stories</td>\n",
       "      <td>Ann Beattie</td>\n",
       "      <td>2002.0</td>\n",
       "      <td>Scribner</td>\n",
       "      <td>8.0</td>\n",
       "      <td>5.0</td>\n",
       "      <td>timmins, ontario, canada</td>\n",
       "      <td>34.72384</td>\n",
       "      <td>timmins</td>\n",
       "      <td>canada</td>\n",
       "    </tr>\n",
       "    <tr>\n",
       "      <th>12</th>\n",
       "      <td>0887841740</td>\n",
       "      <td>The Middle Stories</td>\n",
       "      <td>Sheila Heti</td>\n",
       "      <td>2004.0</td>\n",
       "      <td>House of Anansi Press</td>\n",
       "      <td>8.0</td>\n",
       "      <td>5.0</td>\n",
       "      <td>timmins, ontario, canada</td>\n",
       "      <td>34.72384</td>\n",
       "      <td>timmins</td>\n",
       "      <td>canada</td>\n",
       "    </tr>\n",
       "    <tr>\n",
       "      <th>13</th>\n",
       "      <td>1552041778</td>\n",
       "      <td>Jane Doe</td>\n",
       "      <td>R. J. Kaiser</td>\n",
       "      <td>1999.0</td>\n",
       "      <td>Mira Books</td>\n",
       "      <td>8.0</td>\n",
       "      <td>5.0</td>\n",
       "      <td>timmins, ontario, canada</td>\n",
       "      <td>34.72384</td>\n",
       "      <td>timmins</td>\n",
       "      <td>canada</td>\n",
       "    </tr>\n",
       "    <tr>\n",
       "      <th>15</th>\n",
       "      <td>1567407781</td>\n",
       "      <td>The Witchfinder (Amos Walker Mystery Series)</td>\n",
       "      <td>Loren D. Estleman</td>\n",
       "      <td>1998.0</td>\n",
       "      <td>Brilliance Audio - Trade</td>\n",
       "      <td>8.0</td>\n",
       "      <td>6.0</td>\n",
       "      <td>timmins, ontario, canada</td>\n",
       "      <td>34.72384</td>\n",
       "      <td>timmins</td>\n",
       "      <td>canada</td>\n",
       "    </tr>\n",
       "    <tr>\n",
       "      <th>...</th>\n",
       "      <td>...</td>\n",
       "      <td>...</td>\n",
       "      <td>...</td>\n",
       "      <td>...</td>\n",
       "      <td>...</td>\n",
       "      <td>...</td>\n",
       "      <td>...</td>\n",
       "      <td>...</td>\n",
       "      <td>...</td>\n",
       "      <td>...</td>\n",
       "      <td>...</td>\n",
       "    </tr>\n",
       "    <tr>\n",
       "      <th>1149775</th>\n",
       "      <td>8886661975</td>\n",
       "      <td>Unknown</td>\n",
       "      <td>Unknown</td>\n",
       "      <td>NaN</td>\n",
       "      <td>Unknown</td>\n",
       "      <td>276448.0</td>\n",
       "      <td>10.0</td>\n",
       "      <td>torre del greco, campania, italy</td>\n",
       "      <td>34.72384</td>\n",
       "      <td>torre del greco</td>\n",
       "      <td>italy</td>\n",
       "    </tr>\n",
       "    <tr>\n",
       "      <th>1149776</th>\n",
       "      <td>7222025634</td>\n",
       "      <td>Unknown</td>\n",
       "      <td>Unknown</td>\n",
       "      <td>NaN</td>\n",
       "      <td>Unknown</td>\n",
       "      <td>276638.0</td>\n",
       "      <td>10.0</td>\n",
       "      <td>shanghai, n/a, china</td>\n",
       "      <td>32.00000</td>\n",
       "      <td>shanghai</td>\n",
       "      <td>china</td>\n",
       "    </tr>\n",
       "    <tr>\n",
       "      <th>1149777</th>\n",
       "      <td>0533233661</td>\n",
       "      <td>Unknown</td>\n",
       "      <td>Unknown</td>\n",
       "      <td>NaN</td>\n",
       "      <td>Unknown</td>\n",
       "      <td>276663.0</td>\n",
       "      <td>5.0</td>\n",
       "      <td>santiago de compostela, galicia, spain</td>\n",
       "      <td>20.00000</td>\n",
       "      <td>santiago de compostela</td>\n",
       "      <td>spain</td>\n",
       "    </tr>\n",
       "    <tr>\n",
       "      <th>1149778</th>\n",
       "      <td>3423120754</td>\n",
       "      <td>Unknown</td>\n",
       "      <td>Unknown</td>\n",
       "      <td>NaN</td>\n",
       "      <td>Unknown</td>\n",
       "      <td>276668.0</td>\n",
       "      <td>8.0</td>\n",
       "      <td>mülheim an der ruhr, nordrhein-westfalen, germany</td>\n",
       "      <td>34.72384</td>\n",
       "      <td>mülheim an der ruhr</td>\n",
       "      <td>germany</td>\n",
       "    </tr>\n",
       "    <tr>\n",
       "      <th>1149779</th>\n",
       "      <td>05162443314</td>\n",
       "      <td>Unknown</td>\n",
       "      <td>Unknown</td>\n",
       "      <td>NaN</td>\n",
       "      <td>Unknown</td>\n",
       "      <td>276723.0</td>\n",
       "      <td>8.0</td>\n",
       "      <td>san antonio, texas, usa</td>\n",
       "      <td>12.00000</td>\n",
       "      <td>san antonio</td>\n",
       "      <td>usa</td>\n",
       "    </tr>\n",
       "  </tbody>\n",
       "</table>\n",
       "<p>433671 rows × 11 columns</p>\n",
       "</div>"
      ],
      "text/plain": [
       "                ISBN                                     bookTitle  \\\n",
       "1        0002005018   Clara Callan                                   \n",
       "9        074322678X   Where You'll Find Me: And Other Stories        \n",
       "12       0887841740   The Middle Stories                             \n",
       "13       1552041778   Jane Doe                                       \n",
       "15       1567407781   The Witchfinder (Amos Walker Mystery Series)   \n",
       "...             ...                                            ...   \n",
       "1149775  8886661975   Unknown                                        \n",
       "1149776  7222025634   Unknown                                        \n",
       "1149777  0533233661   Unknown                                        \n",
       "1149778  3423120754   Unknown                                        \n",
       "1149779  05162443314  Unknown                                        \n",
       "\n",
       "                   bookAuthor  yearOfPublication                 publisher  \\\n",
       "1        Richard Bruce Wright  2001.0             HarperFlamingo Canada      \n",
       "9        Ann Beattie           2002.0             Scribner                   \n",
       "12       Sheila Heti           2004.0             House of Anansi Press      \n",
       "13       R. J. Kaiser          1999.0             Mira Books                 \n",
       "15       Loren D. Estleman     1998.0             Brilliance Audio - Trade   \n",
       "...                    ...        ...                                  ...   \n",
       "1149775  Unknown              NaN                 Unknown                    \n",
       "1149776  Unknown              NaN                 Unknown                    \n",
       "1149777  Unknown              NaN                 Unknown                    \n",
       "1149778  Unknown              NaN                 Unknown                    \n",
       "1149779  Unknown              NaN                 Unknown                    \n",
       "\n",
       "          User-ID  Book-Rating  \\\n",
       "1        8.0       5.0           \n",
       "9        8.0       5.0           \n",
       "12       8.0       5.0           \n",
       "13       8.0       5.0           \n",
       "15       8.0       6.0           \n",
       "...      ...       ...           \n",
       "1149775  276448.0  10.0          \n",
       "1149776  276638.0  10.0          \n",
       "1149777  276663.0  5.0           \n",
       "1149778  276668.0  8.0           \n",
       "1149779  276723.0  8.0           \n",
       "\n",
       "                                                  Location       Age  \\\n",
       "1        timmins, ontario, canada                           34.72384   \n",
       "9        timmins, ontario, canada                           34.72384   \n",
       "12       timmins, ontario, canada                           34.72384   \n",
       "13       timmins, ontario, canada                           34.72384   \n",
       "15       timmins, ontario, canada                           34.72384   \n",
       "...                           ...                                ...   \n",
       "1149775  torre del greco, campania, italy                   34.72384   \n",
       "1149776  shanghai, n/a, china                               32.00000   \n",
       "1149777  santiago de compostela, galicia, spain             20.00000   \n",
       "1149778  mülheim an der ruhr, nordrhein-westfalen, germany  34.72384   \n",
       "1149779  san antonio, texas, usa                            12.00000   \n",
       "\n",
       "                           City   Country  \n",
       "1        timmins                  canada   \n",
       "9        timmins                  canada   \n",
       "12       timmins                  canada   \n",
       "13       timmins                  canada   \n",
       "15       timmins                  canada   \n",
       "...          ...                     ...   \n",
       "1149775  torre del greco          italy    \n",
       "1149776  shanghai                 china    \n",
       "1149777  santiago de compostela   spain    \n",
       "1149778  mülheim an der ruhr      germany  \n",
       "1149779  san antonio              usa      \n",
       "\n",
       "[433671 rows x 11 columns]"
      ]
     },
     "execution_count": 62,
     "metadata": {},
     "output_type": "execute_result"
    }
   ],
   "source": [
    "explicit"
   ]
  },
  {
   "cell_type": "code",
   "execution_count": 63,
   "id": "706faba5",
   "metadata": {},
   "outputs": [
    {
     "data": {
      "text/plain": [
       "ISBN                 0    \n",
       "bookTitle            0    \n",
       "bookAuthor           0    \n",
       "yearOfPublication    49829\n",
       "publisher            0    \n",
       "User-ID              0    \n",
       "Book-Rating          0    \n",
       "Location             0    \n",
       "Age                  0    \n",
       "City                 0    \n",
       "Country              0    \n",
       "dtype: int64"
      ]
     },
     "execution_count": 63,
     "metadata": {},
     "output_type": "execute_result"
    }
   ],
   "source": [
    "explicit.isnull().sum()"
   ]
  },
  {
   "cell_type": "code",
   "execution_count": 64,
   "id": "b8d545d0",
   "metadata": {},
   "outputs": [
    {
     "data": {
      "text/plain": [
       "NaN       49829\n",
       "2002.0    37986\n",
       "2001.0    32331\n",
       "2003.0    29166\n",
       "1999.0    29100\n",
       "          ...  \n",
       "1806.0    1    \n",
       "1934.0    1    \n",
       "1378.0    1    \n",
       "1904.0    1    \n",
       "1376.0    1    \n",
       "Name: yearOfPublication, Length: 96, dtype: int64"
      ]
     },
     "execution_count": 64,
     "metadata": {},
     "output_type": "execute_result"
    }
   ],
   "source": [
    "explicit['yearOfPublication'].value_counts(dropna = False)"
   ]
  },
  {
   "cell_type": "code",
   "execution_count": 65,
   "id": "e3605bc4",
   "metadata": {},
   "outputs": [
    {
     "name": "stdout",
     "output_type": "stream",
     "text": [
      "[1920.0, 1930.0, 1953.0, 1955.0, 1957.0, 1958.0, 1959.0, 1960.0, 1963.0, 1964.0, 1965.0, 1966.0, 1970.0, 1971.0, 1972.0, 1973.0, 1974.0, 1975.0, 1976.0, 1977.0, 1978.0, 1979.0, 1980.0, 1981.0, 1982.0, 1983.0, 1984.0, 1985.0, 1986.0, 1987.0, 1988.0, 1989.0, 1990.0, 1991.0, 1992.0, 1993.0, 1994.0, 1995.0, 1996.0, 1997.0, 1998.0, 1999.0, 2000.0, 2001.0, 2002.0, 2003.0, 2004.0, nan, 1376.0, 1378.0, 1806.0, 1900.0, 1901.0, 1902.0, 1904.0, 1906.0, 1908.0, 1911.0, 1923.0, 1924.0, 1925.0, 1926.0, 1927.0, 1928.0, 1929.0, 1931.0, 1932.0, 1933.0, 1934.0, 1935.0, 1936.0, 1937.0, 1938.0, 1939.0, 1940.0, 1941.0, 1942.0, 1943.0, 1944.0, 1945.0, 1946.0, 1947.0, 1948.0, 1949.0, 1950.0, 1951.0, 1952.0, 1954.0, 1956.0, 1961.0, 1962.0, 1967.0, 1968.0, 1969.0, 2005.0, 2006.0]\n"
     ]
    }
   ],
   "source": [
    "explicit.yearOfPublication = pd.to_numeric(explicit.yearOfPublication, errors='coerce')\n",
    "\n",
    "print(sorted(explicit['yearOfPublication'].unique()))"
   ]
  },
  {
   "cell_type": "code",
   "execution_count": 66,
   "id": "7cb94fc7",
   "metadata": {},
   "outputs": [],
   "source": [
    "explicit.yearOfPublication.fillna(round(explicit.yearOfPublication.mean()), inplace = True)"
   ]
  },
  {
   "cell_type": "code",
   "execution_count": 67,
   "id": "3e953978",
   "metadata": {},
   "outputs": [
    {
     "data": {
      "text/plain": [
       "ISBN                 0\n",
       "bookTitle            0\n",
       "bookAuthor           0\n",
       "yearOfPublication    0\n",
       "publisher            0\n",
       "User-ID              0\n",
       "Book-Rating          0\n",
       "Location             0\n",
       "Age                  0\n",
       "City                 0\n",
       "Country              0\n",
       "dtype: int64"
      ]
     },
     "execution_count": 67,
     "metadata": {},
     "output_type": "execute_result"
    }
   ],
   "source": [
    "explicit.isnull().sum()"
   ]
  },
  {
   "cell_type": "code",
   "execution_count": 68,
   "id": "a12227ab",
   "metadata": {},
   "outputs": [],
   "source": [
    "sub = explicit[['Age', 'Book-Rating', 'yearOfPublication']]"
   ]
  },
  {
   "cell_type": "code",
   "execution_count": 69,
   "id": "0bfd2088",
   "metadata": {},
   "outputs": [
    {
     "data": {
      "image/png": "[encoded data removed]",
      "text/plain": [
       "<Figure size 1000x1000 with 2 Axes>"
      ]
     },
     "metadata": {},
     "output_type": "display_data"
    }
   ],
   "source": [
    "f,ax = plt.subplots(figsize=(10,10))\n",
    "corr = sns.heatmap(sub.corr(), annot = True, ax = ax)"
   ]
  },
  {
   "cell_type": "code",
   "execution_count": 71,
   "id": "aacf0333",
   "metadata": {},
   "outputs": [],
   "source": [
    "explicit.loc[(explicit['Age'] >= 5) & (explicit['Age'] <= 18), 'Age Group'] = '5-18 years old'\n",
    "explicit.loc[(explicit['Age'] >= 19) & (explicit['Age'] <= 35), 'Age Group'] = '19-35 years old'\n",
    "explicit.loc[(explicit['Age'] >= 36) & (explicit['Age'] <= 55), 'Age Group'] = '36-55 years old'\n",
    "explicit.loc[(explicit['Age'] >= 56) & (explicit['Age'] <= 74), 'Age Group'] = '56-74 years old'\n",
    "explicit.loc[(explicit['Age'] >= 75) & (explicit['Age'] <= 90), 'Age Group'] = '75-90 years old'"
   ]
  },
  {
   "cell_type": "code",
   "execution_count": 72,
   "id": "d1896ef0",
   "metadata": {},
   "outputs": [
    {
     "data": {
      "text/plain": [
       "<seaborn.axisgrid.FacetGrid at 0x31c07f290>"
      ]
     },
     "execution_count": 72,
     "metadata": {},
     "output_type": "execute_result"
    },
    {
     "data": {
      "image/png": "[encoded data removed]",
      "text/plain": [
       "<Figure size 500x500 with 1 Axes>"
      ]
     },
     "metadata": {},
     "output_type": "display_data"
    }
   ],
   "source": [
    "sns.lmplot(x = 'Age', y = 'Book-Rating', data = explicit)"
   ]
  },
  {
   "cell_type": "code",
   "execution_count": 73,
   "id": "519604f9",
   "metadata": {},
   "outputs": [],
   "source": [
    "sub_2 = sub[['Age', 'Book-Rating', 'yearOfPublication']]"
   ]
  },
  {
   "cell_type": "code",
   "execution_count": 74,
   "id": "96c9b090",
   "metadata": {},
   "outputs": [
    {
     "data": {
      "image/png": "[encoded data removed]",
      "text/plain": [
       "<Figure size 750x750 with 12 Axes>"
      ]
     },
     "metadata": {},
     "output_type": "display_data"
    }
   ],
   "source": [
    "g = sns.pairplot(sub_2)"
   ]
  },
  {
   "cell_type": "code",
   "execution_count": 75,
   "id": "6eb65798",
   "metadata": {},
   "outputs": [],
   "source": [
    "explicit.loc[(explicit['Book-Rating'] >= 1) & (explicit['Book-Rating'] <= 2), 'Rating category'] = 'Bad category'\n",
    "explicit.loc[(explicit['Book-Rating'] >= 3) & (explicit['Book-Rating'] <= 4), 'Rating category'] = 'Neutral category'\n",
    "explicit.loc[(explicit['Book-Rating'] >= 5) & (explicit['Book-Rating'] <= 6), 'Rating category'] = 'Middle category'\n",
    "explicit.loc[(explicit['Book-Rating'] >= 7) & (explicit['Book-Rating'] <= 8), 'Rating category'] = 'Good category'\n",
    "explicit.loc[explicit['Book-Rating'] >= 9, 'Rating category'] = 'Outstanding category'"
   ]
  },
  {
   "cell_type": "code",
   "execution_count": 76,
   "id": "aab2584f",
   "metadata": {},
   "outputs": [
    {
     "data": {
      "text/plain": [
       "Good category           180193\n",
       "Outstanding category    146151\n",
       "Middle category         87898 \n",
       "Neutral category        14900 \n",
       "Bad category            4529  \n",
       "Name: Rating category, dtype: int64"
      ]
     },
     "execution_count": 76,
     "metadata": {},
     "output_type": "execute_result"
    }
   ],
   "source": [
    "explicit['Rating category'].value_counts(dropna = False)"
   ]
  },
  {
   "cell_type": "code",
   "execution_count": 77,
   "id": "ba63887e",
   "metadata": {},
   "outputs": [
    {
     "data": {
      "text/html": [
       "<div>\n",
       "<style scoped>\n",
       "    .dataframe tbody tr th:only-of-type {\n",
       "        vertical-align: middle;\n",
       "    }\n",
       "\n",
       "    .dataframe tbody tr th {\n",
       "        vertical-align: top;\n",
       "    }\n",
       "\n",
       "    .dataframe thead th {\n",
       "        text-align: right;\n",
       "    }\n",
       "</style>\n",
       "<table border=\"1\" class=\"dataframe\">\n",
       "  <thead>\n",
       "    <tr style=\"text-align: right;\">\n",
       "      <th></th>\n",
       "      <th>ISBN</th>\n",
       "      <th>bookTitle</th>\n",
       "      <th>bookAuthor</th>\n",
       "      <th>yearOfPublication</th>\n",
       "      <th>publisher</th>\n",
       "      <th>User-ID</th>\n",
       "      <th>Book-Rating</th>\n",
       "      <th>Location</th>\n",
       "      <th>Age</th>\n",
       "      <th>City</th>\n",
       "      <th>Country</th>\n",
       "      <th>Age Group</th>\n",
       "      <th>Rating category</th>\n",
       "    </tr>\n",
       "  </thead>\n",
       "  <tbody>\n",
       "    <tr>\n",
       "      <th>1</th>\n",
       "      <td>0002005018</td>\n",
       "      <td>Clara Callan</td>\n",
       "      <td>Richard Bruce Wright</td>\n",
       "      <td>2001.0</td>\n",
       "      <td>HarperFlamingo Canada</td>\n",
       "      <td>8.0</td>\n",
       "      <td>5.0</td>\n",
       "      <td>timmins, ontario, canada</td>\n",
       "      <td>34.72384</td>\n",
       "      <td>timmins</td>\n",
       "      <td>canada</td>\n",
       "      <td>19-35 years old</td>\n",
       "      <td>Middle category</td>\n",
       "    </tr>\n",
       "    <tr>\n",
       "      <th>9</th>\n",
       "      <td>074322678X</td>\n",
       "      <td>Where You'll Find Me: And Other Stories</td>\n",
       "      <td>Ann Beattie</td>\n",
       "      <td>2002.0</td>\n",
       "      <td>Scribner</td>\n",
       "      <td>8.0</td>\n",
       "      <td>5.0</td>\n",
       "      <td>timmins, ontario, canada</td>\n",
       "      <td>34.72384</td>\n",
       "      <td>timmins</td>\n",
       "      <td>canada</td>\n",
       "      <td>19-35 years old</td>\n",
       "      <td>Middle category</td>\n",
       "    </tr>\n",
       "    <tr>\n",
       "      <th>12</th>\n",
       "      <td>0887841740</td>\n",
       "      <td>The Middle Stories</td>\n",
       "      <td>Sheila Heti</td>\n",
       "      <td>2004.0</td>\n",
       "      <td>House of Anansi Press</td>\n",
       "      <td>8.0</td>\n",
       "      <td>5.0</td>\n",
       "      <td>timmins, ontario, canada</td>\n",
       "      <td>34.72384</td>\n",
       "      <td>timmins</td>\n",
       "      <td>canada</td>\n",
       "      <td>19-35 years old</td>\n",
       "      <td>Middle category</td>\n",
       "    </tr>\n",
       "    <tr>\n",
       "      <th>13</th>\n",
       "      <td>1552041778</td>\n",
       "      <td>Jane Doe</td>\n",
       "      <td>R. J. Kaiser</td>\n",
       "      <td>1999.0</td>\n",
       "      <td>Mira Books</td>\n",
       "      <td>8.0</td>\n",
       "      <td>5.0</td>\n",
       "      <td>timmins, ontario, canada</td>\n",
       "      <td>34.72384</td>\n",
       "      <td>timmins</td>\n",
       "      <td>canada</td>\n",
       "      <td>19-35 years old</td>\n",
       "      <td>Middle category</td>\n",
       "    </tr>\n",
       "    <tr>\n",
       "      <th>15</th>\n",
       "      <td>1567407781</td>\n",
       "      <td>The Witchfinder (Amos Walker Mystery Series)</td>\n",
       "      <td>Loren D. Estleman</td>\n",
       "      <td>1998.0</td>\n",
       "      <td>Brilliance Audio - Trade</td>\n",
       "      <td>8.0</td>\n",
       "      <td>6.0</td>\n",
       "      <td>timmins, ontario, canada</td>\n",
       "      <td>34.72384</td>\n",
       "      <td>timmins</td>\n",
       "      <td>canada</td>\n",
       "      <td>19-35 years old</td>\n",
       "      <td>Middle category</td>\n",
       "    </tr>\n",
       "    <tr>\n",
       "      <th>...</th>\n",
       "      <td>...</td>\n",
       "      <td>...</td>\n",
       "      <td>...</td>\n",
       "      <td>...</td>\n",
       "      <td>...</td>\n",
       "      <td>...</td>\n",
       "      <td>...</td>\n",
       "      <td>...</td>\n",
       "      <td>...</td>\n",
       "      <td>...</td>\n",
       "      <td>...</td>\n",
       "      <td>...</td>\n",
       "      <td>...</td>\n",
       "    </tr>\n",
       "    <tr>\n",
       "      <th>1149775</th>\n",
       "      <td>8886661975</td>\n",
       "      <td>Unknown</td>\n",
       "      <td>Unknown</td>\n",
       "      <td>1996.0</td>\n",
       "      <td>Unknown</td>\n",
       "      <td>276448.0</td>\n",
       "      <td>10.0</td>\n",
       "      <td>torre del greco, campania, italy</td>\n",
       "      <td>34.72384</td>\n",
       "      <td>torre del greco</td>\n",
       "      <td>italy</td>\n",
       "      <td>19-35 years old</td>\n",
       "      <td>Outstanding category</td>\n",
       "    </tr>\n",
       "    <tr>\n",
       "      <th>1149776</th>\n",
       "      <td>7222025634</td>\n",
       "      <td>Unknown</td>\n",
       "      <td>Unknown</td>\n",
       "      <td>1996.0</td>\n",
       "      <td>Unknown</td>\n",
       "      <td>276638.0</td>\n",
       "      <td>10.0</td>\n",
       "      <td>shanghai, n/a, china</td>\n",
       "      <td>32.00000</td>\n",
       "      <td>shanghai</td>\n",
       "      <td>china</td>\n",
       "      <td>19-35 years old</td>\n",
       "      <td>Outstanding category</td>\n",
       "    </tr>\n",
       "    <tr>\n",
       "      <th>1149777</th>\n",
       "      <td>0533233661</td>\n",
       "      <td>Unknown</td>\n",
       "      <td>Unknown</td>\n",
       "      <td>1996.0</td>\n",
       "      <td>Unknown</td>\n",
       "      <td>276663.0</td>\n",
       "      <td>5.0</td>\n",
       "      <td>santiago de compostela, galicia, spain</td>\n",
       "      <td>20.00000</td>\n",
       "      <td>santiago de compostela</td>\n",
       "      <td>spain</td>\n",
       "      <td>19-35 years old</td>\n",
       "      <td>Middle category</td>\n",
       "    </tr>\n",
       "    <tr>\n",
       "      <th>1149778</th>\n",
       "      <td>3423120754</td>\n",
       "      <td>Unknown</td>\n",
       "      <td>Unknown</td>\n",
       "      <td>1996.0</td>\n",
       "      <td>Unknown</td>\n",
       "      <td>276668.0</td>\n",
       "      <td>8.0</td>\n",
       "      <td>mülheim an der ruhr, nordrhein-westfalen, germany</td>\n",
       "      <td>34.72384</td>\n",
       "      <td>mülheim an der ruhr</td>\n",
       "      <td>germany</td>\n",
       "      <td>19-35 years old</td>\n",
       "      <td>Good category</td>\n",
       "    </tr>\n",
       "    <tr>\n",
       "      <th>1149779</th>\n",
       "      <td>05162443314</td>\n",
       "      <td>Unknown</td>\n",
       "      <td>Unknown</td>\n",
       "      <td>1996.0</td>\n",
       "      <td>Unknown</td>\n",
       "      <td>276723.0</td>\n",
       "      <td>8.0</td>\n",
       "      <td>san antonio, texas, usa</td>\n",
       "      <td>12.00000</td>\n",
       "      <td>san antonio</td>\n",
       "      <td>usa</td>\n",
       "      <td>5-18 years old</td>\n",
       "      <td>Good category</td>\n",
       "    </tr>\n",
       "  </tbody>\n",
       "</table>\n",
       "<p>433671 rows × 13 columns</p>\n",
       "</div>"
      ],
      "text/plain": [
       "                ISBN                                     bookTitle  \\\n",
       "1        0002005018   Clara Callan                                   \n",
       "9        074322678X   Where You'll Find Me: And Other Stories        \n",
       "12       0887841740   The Middle Stories                             \n",
       "13       1552041778   Jane Doe                                       \n",
       "15       1567407781   The Witchfinder (Amos Walker Mystery Series)   \n",
       "...             ...                                            ...   \n",
       "1149775  8886661975   Unknown                                        \n",
       "1149776  7222025634   Unknown                                        \n",
       "1149777  0533233661   Unknown                                        \n",
       "1149778  3423120754   Unknown                                        \n",
       "1149779  05162443314  Unknown                                        \n",
       "\n",
       "                   bookAuthor  yearOfPublication                 publisher  \\\n",
       "1        Richard Bruce Wright  2001.0             HarperFlamingo Canada      \n",
       "9        Ann Beattie           2002.0             Scribner                   \n",
       "12       Sheila Heti           2004.0             House of Anansi Press      \n",
       "13       R. J. Kaiser          1999.0             Mira Books                 \n",
       "15       Loren D. Estleman     1998.0             Brilliance Audio - Trade   \n",
       "...                    ...        ...                                  ...   \n",
       "1149775  Unknown               1996.0             Unknown                    \n",
       "1149776  Unknown               1996.0             Unknown                    \n",
       "1149777  Unknown               1996.0             Unknown                    \n",
       "1149778  Unknown               1996.0             Unknown                    \n",
       "1149779  Unknown               1996.0             Unknown                    \n",
       "\n",
       "          User-ID  Book-Rating  \\\n",
       "1        8.0       5.0           \n",
       "9        8.0       5.0           \n",
       "12       8.0       5.0           \n",
       "13       8.0       5.0           \n",
       "15       8.0       6.0           \n",
       "...      ...       ...           \n",
       "1149775  276448.0  10.0          \n",
       "1149776  276638.0  10.0          \n",
       "1149777  276663.0  5.0           \n",
       "1149778  276668.0  8.0           \n",
       "1149779  276723.0  8.0           \n",
       "\n",
       "                                                  Location       Age  \\\n",
       "1        timmins, ontario, canada                           34.72384   \n",
       "9        timmins, ontario, canada                           34.72384   \n",
       "12       timmins, ontario, canada                           34.72384   \n",
       "13       timmins, ontario, canada                           34.72384   \n",
       "15       timmins, ontario, canada                           34.72384   \n",
       "...                           ...                                ...   \n",
       "1149775  torre del greco, campania, italy                   34.72384   \n",
       "1149776  shanghai, n/a, china                               32.00000   \n",
       "1149777  santiago de compostela, galicia, spain             20.00000   \n",
       "1149778  mülheim an der ruhr, nordrhein-westfalen, germany  34.72384   \n",
       "1149779  san antonio, texas, usa                            12.00000   \n",
       "\n",
       "                           City   Country        Age Group  \\\n",
       "1        timmins                  canada   19-35 years old   \n",
       "9        timmins                  canada   19-35 years old   \n",
       "12       timmins                  canada   19-35 years old   \n",
       "13       timmins                  canada   19-35 years old   \n",
       "15       timmins                  canada   19-35 years old   \n",
       "...          ...                     ...               ...   \n",
       "1149775  torre del greco          italy    19-35 years old   \n",
       "1149776  shanghai                 china    19-35 years old   \n",
       "1149777  santiago de compostela   spain    19-35 years old   \n",
       "1149778  mülheim an der ruhr      germany  19-35 years old   \n",
       "1149779  san antonio              usa      5-18 years old    \n",
       "\n",
       "              Rating category  \n",
       "1        Middle category       \n",
       "9        Middle category       \n",
       "12       Middle category       \n",
       "13       Middle category       \n",
       "15       Middle category       \n",
       "...                  ...       \n",
       "1149775  Outstanding category  \n",
       "1149776  Outstanding category  \n",
       "1149777  Middle category       \n",
       "1149778  Good category         \n",
       "1149779  Good category         \n",
       "\n",
       "[433671 rows x 13 columns]"
      ]
     },
     "execution_count": 77,
     "metadata": {},
     "output_type": "execute_result"
    }
   ],
   "source": [
    "explicit"
   ]
  },
  {
   "cell_type": "code",
   "execution_count": 78,
   "id": "44df4f45",
   "metadata": {},
   "outputs": [
    {
     "name": "stdout",
     "output_type": "stream",
     "text": [
      "['', ' &#20013;&#22269;', ' \\\\\"n/a\\\\\"\"', ' \\\\n/a\\\\\"\"', ' afghanistan', ' alachua', ' albania', ' alderney', ' algeria', ' america', ' andorra', ' angola', ' antarctica', ' antigua and barbuda', ' argentina', ' aroostook', ' aruba', ' australia', ' austria', ' austria\"', ' autralia', ' az', ' azerbaijan', ' bahamas', ' bahrain', ' bangladesh', ' barbados', ' basilicata', ' belgium', ' belize', ' benin', ' berguedà', ' bermuda', ' bolivia', ' bosnia and herzegovina', ' brasil', ' brazil', ' brazil\"', ' brunei', ' bulgaria', ' burma', ' c', ' c.a.', ' calabria', ' cambodia', ' camden', ' cameroon', ' canada', ' cananda', ' cape verde', ' caribbean sea', ' catalonia', ' catalunya', ' catalunya spain', ' cayman islands', ' channel islands', ' cherokee', ' chile', ' china', ' colombia', ' costa rica', ' costa rica\"', ' croatia', ' croatia\"', ' csa', ' cuba', ' cyprus', ' czech republic', ' denmark', ' denmark\"', ' deutschland', ' disgruntled states of america', ' dominican republic', ' ecuador', ' egypt', ' el salvador', ' england', ' espanha / galiza', ' espaã±a', ' españa', ' españa\"', ' estonia', ' europe', ' euskal herria', ' everywhere and anywhere', ' far away...', ' ferrara', ' fiji', ' finland', ' finland\"', ' fort bend', ' framingham', ' france', ' france\"', ' gabon', ' galiza', ' geermany', ' germany', ' germany\"', ' ghana', ' greece', ' greece\"', ' grenada', ' guam', ' guatemala', ' guernsey', ' guinea', ' guinea-bissau', ' here and there', ' honduras', ' hong kong', ' hungary', ' hungary\"', ' iceland', ' india', ' india\"', ' indonesia', ' iran', ' iran\"', ' ireland', ' ireland\"', ' israel', ' israel\"', ' italia', ' italy', ' italy\"', ' jamaica', ' japan', ' jersey', ' jordan', ' k1c7b1', ' kazakhstan', ' kenya', ' kern', ' kosovo', ' kuwait', ' l`italia', ' la belgique', ' la chine éternelle!', ' la france', ' la suisse', ' laos', ' latvia', ' lazio', ' lebanon', ' libya', ' lithuania', ' lkjlj', ' lleida', ' lombardia', ' los estados unidos de norte america', ' luxembourg', ' luxembourg\"', ' macau', ' macedonia', ' madagascar', ' malaysia', ' malta', ' maracopa', ' maricopa', ' mauritius', ' mexico', ' mexico\"', ' moldova', ' monaco', ' mongolia', ' morgan', ' morocco', ' mozambique', ' n/a', ' n/a - on the road', ' nederlands', ' nepal', ' netherlands', ' netherlands antilles', ' netherlands\"', ' new zealand', ' new zealand\"', ' nicaragua', ' niger', ' nigeria', ' norway', ' norway\"', ' nz', ' ohio', ' oman', ' orange co', ' orense', ' p.r.china', ' pakistan', ' palau', ' panama', ' papua new guinea', ' paraguay', ' pender', ' peru', ' petrolwar nation', ' philippines', ' philippines\"', ' phillipines', ' poland', ' polk', ' portugal', ' portugal\"', ' puerto rico', ' qatar', ' quit', ' republic of panama', ' richmond country', ' romania', ' russia', ' rutherford', ' saint loius', ' saint lucia', ' samoa', ' san marino', ' saudi arabia', ' scotland', ' shelby', ' singapore', ' slovakia', ' slovenia', ' slovenia\"', ' south africa', ' south korea', ' space', ' spain', ' spain\"', ' sri lanka', ' sri lanka\"', ' st. helena', ' st.thomasi', ' sweden', ' sweden\"', ' switzerland', ' switzerland\"', ' syria', ' taiwan', ' tajikistan', ' tanzania', ' tdzimi', ' thailand', ' the netherlands', ' the world tomorrow', ' tobago', ' tonga', ' trinidad and tobago', ' tunisia', ' turkey', ' turkey\"', ' turkmenistan', ' u.a.e', ' u.k.', ' u.s. of a.', ' u.s. virgin islands', ' u.s.a.', ' u.s.a>', ' u.s>', ' ua', ' uganda', ' ukraine', ' united arab emirates', ' united kindgonm', ' united kingdom', ' united kingdom\"', ' united sates', ' united staes', ' united state', ' united states', ' united states of america', ' universe', ' unknown', ' urugua', ' uruguay', ' us', ' usa', ' usa & canada', ' usa (currently living in england)', ' uzbekistan', ' van wert', ' venezuela', ' vietnam', ' wales', ' worcester', ' x', ' yemen', ' ysa', ' yugoslavia', ' zambia', ' zimbabwe', '\"']\n"
     ]
    }
   ],
   "source": [
    "print(sorted(explicit['Country'].unique()))"
   ]
  },
  {
   "cell_type": "code",
   "execution_count": 79,
   "id": "241201ae",
   "metadata": {},
   "outputs": [
    {
     "data": {
      "text/html": [
       "<div>\n",
       "<style scoped>\n",
       "    .dataframe tbody tr th:only-of-type {\n",
       "        vertical-align: middle;\n",
       "    }\n",
       "\n",
       "    .dataframe tbody tr th {\n",
       "        vertical-align: top;\n",
       "    }\n",
       "\n",
       "    .dataframe thead th {\n",
       "        text-align: right;\n",
       "    }\n",
       "</style>\n",
       "<table border=\"1\" class=\"dataframe\">\n",
       "  <thead>\n",
       "    <tr style=\"text-align: right;\">\n",
       "      <th></th>\n",
       "      <th>ISBN</th>\n",
       "      <th>bookTitle</th>\n",
       "      <th>bookAuthor</th>\n",
       "      <th>yearOfPublication</th>\n",
       "      <th>publisher</th>\n",
       "      <th>User-ID</th>\n",
       "      <th>Book-Rating</th>\n",
       "      <th>Location</th>\n",
       "      <th>Age</th>\n",
       "      <th>City</th>\n",
       "      <th>Country</th>\n",
       "      <th>Age Group</th>\n",
       "      <th>Rating category</th>\n",
       "    </tr>\n",
       "  </thead>\n",
       "  <tbody>\n",
       "    <tr>\n",
       "      <th>1</th>\n",
       "      <td>0002005018</td>\n",
       "      <td>Clara Callan</td>\n",
       "      <td>Richard Bruce Wright</td>\n",
       "      <td>2001.0</td>\n",
       "      <td>HarperFlamingo Canada</td>\n",
       "      <td>8.0</td>\n",
       "      <td>5.0</td>\n",
       "      <td>timmins, ontario, canada</td>\n",
       "      <td>34.72384</td>\n",
       "      <td>timmins</td>\n",
       "      <td>Canada</td>\n",
       "      <td>19-35 years old</td>\n",
       "      <td>Middle category</td>\n",
       "    </tr>\n",
       "    <tr>\n",
       "      <th>9</th>\n",
       "      <td>074322678X</td>\n",
       "      <td>Where You'll Find Me: And Other Stories</td>\n",
       "      <td>Ann Beattie</td>\n",
       "      <td>2002.0</td>\n",
       "      <td>Scribner</td>\n",
       "      <td>8.0</td>\n",
       "      <td>5.0</td>\n",
       "      <td>timmins, ontario, canada</td>\n",
       "      <td>34.72384</td>\n",
       "      <td>timmins</td>\n",
       "      <td>Canada</td>\n",
       "      <td>19-35 years old</td>\n",
       "      <td>Middle category</td>\n",
       "    </tr>\n",
       "    <tr>\n",
       "      <th>12</th>\n",
       "      <td>0887841740</td>\n",
       "      <td>The Middle Stories</td>\n",
       "      <td>Sheila Heti</td>\n",
       "      <td>2004.0</td>\n",
       "      <td>House of Anansi Press</td>\n",
       "      <td>8.0</td>\n",
       "      <td>5.0</td>\n",
       "      <td>timmins, ontario, canada</td>\n",
       "      <td>34.72384</td>\n",
       "      <td>timmins</td>\n",
       "      <td>Canada</td>\n",
       "      <td>19-35 years old</td>\n",
       "      <td>Middle category</td>\n",
       "    </tr>\n",
       "    <tr>\n",
       "      <th>13</th>\n",
       "      <td>1552041778</td>\n",
       "      <td>Jane Doe</td>\n",
       "      <td>R. J. Kaiser</td>\n",
       "      <td>1999.0</td>\n",
       "      <td>Mira Books</td>\n",
       "      <td>8.0</td>\n",
       "      <td>5.0</td>\n",
       "      <td>timmins, ontario, canada</td>\n",
       "      <td>34.72384</td>\n",
       "      <td>timmins</td>\n",
       "      <td>Canada</td>\n",
       "      <td>19-35 years old</td>\n",
       "      <td>Middle category</td>\n",
       "    </tr>\n",
       "    <tr>\n",
       "      <th>15</th>\n",
       "      <td>1567407781</td>\n",
       "      <td>The Witchfinder (Amos Walker Mystery Series)</td>\n",
       "      <td>Loren D. Estleman</td>\n",
       "      <td>1998.0</td>\n",
       "      <td>Brilliance Audio - Trade</td>\n",
       "      <td>8.0</td>\n",
       "      <td>6.0</td>\n",
       "      <td>timmins, ontario, canada</td>\n",
       "      <td>34.72384</td>\n",
       "      <td>timmins</td>\n",
       "      <td>Canada</td>\n",
       "      <td>19-35 years old</td>\n",
       "      <td>Middle category</td>\n",
       "    </tr>\n",
       "    <tr>\n",
       "      <th>...</th>\n",
       "      <td>...</td>\n",
       "      <td>...</td>\n",
       "      <td>...</td>\n",
       "      <td>...</td>\n",
       "      <td>...</td>\n",
       "      <td>...</td>\n",
       "      <td>...</td>\n",
       "      <td>...</td>\n",
       "      <td>...</td>\n",
       "      <td>...</td>\n",
       "      <td>...</td>\n",
       "      <td>...</td>\n",
       "      <td>...</td>\n",
       "    </tr>\n",
       "    <tr>\n",
       "      <th>1149775</th>\n",
       "      <td>8886661975</td>\n",
       "      <td>Unknown</td>\n",
       "      <td>Unknown</td>\n",
       "      <td>1996.0</td>\n",
       "      <td>Unknown</td>\n",
       "      <td>276448.0</td>\n",
       "      <td>10.0</td>\n",
       "      <td>torre del greco, campania, italy</td>\n",
       "      <td>34.72384</td>\n",
       "      <td>torre del greco</td>\n",
       "      <td>Italy</td>\n",
       "      <td>19-35 years old</td>\n",
       "      <td>Outstanding category</td>\n",
       "    </tr>\n",
       "    <tr>\n",
       "      <th>1149776</th>\n",
       "      <td>7222025634</td>\n",
       "      <td>Unknown</td>\n",
       "      <td>Unknown</td>\n",
       "      <td>1996.0</td>\n",
       "      <td>Unknown</td>\n",
       "      <td>276638.0</td>\n",
       "      <td>10.0</td>\n",
       "      <td>shanghai, n/a, china</td>\n",
       "      <td>32.00000</td>\n",
       "      <td>shanghai</td>\n",
       "      <td>China</td>\n",
       "      <td>19-35 years old</td>\n",
       "      <td>Outstanding category</td>\n",
       "    </tr>\n",
       "    <tr>\n",
       "      <th>1149777</th>\n",
       "      <td>0533233661</td>\n",
       "      <td>Unknown</td>\n",
       "      <td>Unknown</td>\n",
       "      <td>1996.0</td>\n",
       "      <td>Unknown</td>\n",
       "      <td>276663.0</td>\n",
       "      <td>5.0</td>\n",
       "      <td>santiago de compostela, galicia, spain</td>\n",
       "      <td>20.00000</td>\n",
       "      <td>santiago de compostela</td>\n",
       "      <td>Spain</td>\n",
       "      <td>19-35 years old</td>\n",
       "      <td>Middle category</td>\n",
       "    </tr>\n",
       "    <tr>\n",
       "      <th>1149778</th>\n",
       "      <td>3423120754</td>\n",
       "      <td>Unknown</td>\n",
       "      <td>Unknown</td>\n",
       "      <td>1996.0</td>\n",
       "      <td>Unknown</td>\n",
       "      <td>276668.0</td>\n",
       "      <td>8.0</td>\n",
       "      <td>mülheim an der ruhr, nordrhein-westfalen, germany</td>\n",
       "      <td>34.72384</td>\n",
       "      <td>mülheim an der ruhr</td>\n",
       "      <td>Germany</td>\n",
       "      <td>19-35 years old</td>\n",
       "      <td>Good category</td>\n",
       "    </tr>\n",
       "    <tr>\n",
       "      <th>1149779</th>\n",
       "      <td>05162443314</td>\n",
       "      <td>Unknown</td>\n",
       "      <td>Unknown</td>\n",
       "      <td>1996.0</td>\n",
       "      <td>Unknown</td>\n",
       "      <td>276723.0</td>\n",
       "      <td>8.0</td>\n",
       "      <td>san antonio, texas, usa</td>\n",
       "      <td>12.00000</td>\n",
       "      <td>san antonio</td>\n",
       "      <td>United States</td>\n",
       "      <td>5-18 years old</td>\n",
       "      <td>Good category</td>\n",
       "    </tr>\n",
       "  </tbody>\n",
       "</table>\n",
       "<p>433671 rows × 13 columns</p>\n",
       "</div>"
      ],
      "text/plain": [
       "                ISBN                                     bookTitle  \\\n",
       "1        0002005018   Clara Callan                                   \n",
       "9        074322678X   Where You'll Find Me: And Other Stories        \n",
       "12       0887841740   The Middle Stories                             \n",
       "13       1552041778   Jane Doe                                       \n",
       "15       1567407781   The Witchfinder (Amos Walker Mystery Series)   \n",
       "...             ...                                            ...   \n",
       "1149775  8886661975   Unknown                                        \n",
       "1149776  7222025634   Unknown                                        \n",
       "1149777  0533233661   Unknown                                        \n",
       "1149778  3423120754   Unknown                                        \n",
       "1149779  05162443314  Unknown                                        \n",
       "\n",
       "                   bookAuthor  yearOfPublication                 publisher  \\\n",
       "1        Richard Bruce Wright  2001.0             HarperFlamingo Canada      \n",
       "9        Ann Beattie           2002.0             Scribner                   \n",
       "12       Sheila Heti           2004.0             House of Anansi Press      \n",
       "13       R. J. Kaiser          1999.0             Mira Books                 \n",
       "15       Loren D. Estleman     1998.0             Brilliance Audio - Trade   \n",
       "...                    ...        ...                                  ...   \n",
       "1149775  Unknown               1996.0             Unknown                    \n",
       "1149776  Unknown               1996.0             Unknown                    \n",
       "1149777  Unknown               1996.0             Unknown                    \n",
       "1149778  Unknown               1996.0             Unknown                    \n",
       "1149779  Unknown               1996.0             Unknown                    \n",
       "\n",
       "          User-ID  Book-Rating  \\\n",
       "1        8.0       5.0           \n",
       "9        8.0       5.0           \n",
       "12       8.0       5.0           \n",
       "13       8.0       5.0           \n",
       "15       8.0       6.0           \n",
       "...      ...       ...           \n",
       "1149775  276448.0  10.0          \n",
       "1149776  276638.0  10.0          \n",
       "1149777  276663.0  5.0           \n",
       "1149778  276668.0  8.0           \n",
       "1149779  276723.0  8.0           \n",
       "\n",
       "                                                  Location       Age  \\\n",
       "1        timmins, ontario, canada                           34.72384   \n",
       "9        timmins, ontario, canada                           34.72384   \n",
       "12       timmins, ontario, canada                           34.72384   \n",
       "13       timmins, ontario, canada                           34.72384   \n",
       "15       timmins, ontario, canada                           34.72384   \n",
       "...                           ...                                ...   \n",
       "1149775  torre del greco, campania, italy                   34.72384   \n",
       "1149776  shanghai, n/a, china                               32.00000   \n",
       "1149777  santiago de compostela, galicia, spain             20.00000   \n",
       "1149778  mülheim an der ruhr, nordrhein-westfalen, germany  34.72384   \n",
       "1149779  san antonio, texas, usa                            12.00000   \n",
       "\n",
       "                           City        Country        Age Group  \\\n",
       "1        timmins                 Canada         19-35 years old   \n",
       "9        timmins                 Canada         19-35 years old   \n",
       "12       timmins                 Canada         19-35 years old   \n",
       "13       timmins                 Canada         19-35 years old   \n",
       "15       timmins                 Canada         19-35 years old   \n",
       "...          ...                    ...                     ...   \n",
       "1149775  torre del greco         Italy          19-35 years old   \n",
       "1149776  shanghai                China          19-35 years old   \n",
       "1149777  santiago de compostela  Spain          19-35 years old   \n",
       "1149778  mülheim an der ruhr     Germany        19-35 years old   \n",
       "1149779  san antonio             United States  5-18 years old    \n",
       "\n",
       "              Rating category  \n",
       "1        Middle category       \n",
       "9        Middle category       \n",
       "12       Middle category       \n",
       "13       Middle category       \n",
       "15       Middle category       \n",
       "...                  ...       \n",
       "1149775  Outstanding category  \n",
       "1149776  Outstanding category  \n",
       "1149777  Middle category       \n",
       "1149778  Good category         \n",
       "1149779  Good category         \n",
       "\n",
       "[433671 rows x 13 columns]"
      ]
     },
     "execution_count": 79,
     "metadata": {},
     "output_type": "execute_result"
    }
   ],
   "source": [
    "def correct_country_name(country):\n",
    "    country_lower = country.lower()\n",
    "\n",
    "    au_patterns = [' australia', ' autralia']\n",
    "    ag_patterns = [' antigua and barbuda']\n",
    "    at_patterns = [' austria', ' austria\"']\n",
    "    az_patterns = [' az', ' azerbaijan']\n",
    "    ba_patterns = [' bosnia and herzegovina']\n",
    "    be_patterns = [' belgium', ' la belgique']\n",
    "    br_patterns = [' brasil', ' brazil', ' brazil\"']\n",
    "    ca_patterns = [' canada', ' cananda']\n",
    "    cn_patterns = [' china', ' la chine éternelle!', ' p.r.china']\n",
    "    cr_patterns = [' costa rica', ' costa rica\"']\n",
    "    hr_patterns = [' croatia', ' croatia\"']\n",
    "    eu_patterns = [' europe']\n",
    "    dk_patterns = [' denmark', ' denmark\"']\n",
    "    fi_patterns = [' finland', ' finland\"']\n",
    "    fr_patterns = [' france', ' france\"', ' la france']\n",
    "    de_patterns = [' deutschland', ' geermany', ' germany', ' germany\"']\n",
    "    gw_patterns = [' guinea-bissau']\n",
    "    gr_patterns = [' greece', ' greece\"']\n",
    "    hu_patterns = [' hungary', ' hungary\"']\n",
    "    in_patterns = [' india', ' india\"']\n",
    "    ir_patterns = [' iran', ' iran\"']\n",
    "    ie_patterns = [' ireland', ' ireland\"']\n",
    "    il_patterns = [' israel', ' israel\"']\n",
    "    it_patterns = [' basilicata', ' calabria', ' ferrara', ' italia', ' italy', ' italy\"', ' l`italia', ' lazio', ' lombardia']\n",
    "    lu_patterns = [' luxembourg', ' luxembourg\"']\n",
    "    mm_patterns = [' burma']\n",
    "    mx_patterns = [' mexico', ' mexico\"']\n",
    "    nl_patterns = [' nederlands', ' netherlands', ' netherlands\"', ' the netherlands']\n",
    "    nz_patterns = [' new zealand', ' new zealand\"', ' nz']\n",
    "    no_patterns = [' norway', ' norway\"']\n",
    "    pa_patterns = [' panama', ' republic of panama']\n",
    "    ph_patterns = [' philippines', ' philippines\"', ' phillipines']\n",
    "    pt_patterns = [' portugal', ' portugal\"']\n",
    "    sh_patterns = [' st. helena']\n",
    "    si_patterns = [' slovenia', ' slovenia\"']\n",
    "    es_patterns = [' berguedà', ' catalonia', ' catalunya', ' catalunya spain', ' espanha / galiza', ' espaã±a', ' españa', ' españa\"', ' euskal herria', ' galiza', ' lleida', ' orense', ' spain', ' spain\"']\n",
    "    lk_patterns = [' sri lanka', ' sri lanka\"']\n",
    "    se_patterns = [' sweden', ' sweden\"']\n",
    "    ch_patterns = [' la suisse', ' switzerland', ' switzerland\"']\n",
    "    tr_patterns = [' turkey', ' turkey\"']\n",
    "    tt_patterns = [' tobago', ' trinidad and tobago']\n",
    "    ua_patterns = [' ua', ' ukraine']\n",
    "    ae_patterns = [' u.a.e', ' united arab emirates']\n",
    "    uk_patterns = [' united kindgonm', ' alderney', ' camden', ' england', ' scotland', ' u.k.', ' united kingdom', ' united kingdom\"', ' wales']\n",
    "    us_patterns = [' alachua', ' america', ' aroostook', ' c.a.', ' cherokee', ' disgruntled states of america', ' fort bend', ' framingham', ' los estados unidos de norte america', ' maracopa', ' maricopa', ' ohio', ' orange co', ' richmond country', ' rutherford', ' saint loius', ' st.thomasi', ' u.s. of a.', ' u.s.a.', ' u.s.a>', ' u.s>', ' united sates', ' united staes', ' united state', ' united states', ' united states of america', ' us', ' usa', ' usa & canada', ' usa (currently living in england)', ' worcester', ' ysa']\n",
    "    uv_patterns = [' u.s. virgin islands']\n",
    "    uy_patterns = [' urugua', ' uruguay']\n",
    "    yu_patterns = [' yugoslavia']\n",
    "\n",
    "    unknown_patterns = [' &#20013;&#22269;', '', ' \\\\\"n/a\\\\\"\"', ' \\\\n/a\\\\\"\"', ' c', ' caribbean sea', ' csa', ' everywhere and anywhere', ' far away...', ' here and there', ' k1c7b1', ' kern', ' lkjlj', ' morgan', ' n/a', ' n/a - on the road', ' pender', ' petrolwar nation', ' polk', ' quit', ' shelby', ' space', ' tdzimi', ' the world tomorrow', ' universe', ' van wert', ' x', '\"', ' europe']\n",
    "    \n",
    "    patterns = {\n",
    "        \"Australia\": au_patterns, \"Antigua and Barbuda\": ag_patterns, \"Austria\": at_patterns, \"Azerbaijan\": az_patterns, \"Belgium\": be_patterns,\n",
    "        \"Bosnia and Herzegovina\": ba_patterns, \"Brazil\": br_patterns, \"Canada\": ca_patterns, \"China\": cn_patterns, \"Costa Rica\": cr_patterns,\n",
    "        \"Croatia\": hr_patterns, \"Denmark\": dk_patterns, \"Finland\": fi_patterns, \"France\": fr_patterns,\n",
    "        \"Germany\": de_patterns, \"Guinea Bissau\": gw_patterns, \"Greece\": gr_patterns, \"Hungary\": hu_patterns, \"India\": in_patterns,\n",
    "        \"Iran\": ir_patterns, \"Ireland\": ie_patterns, \"Israel\": il_patterns, \"Italy\": it_patterns,\n",
    "        \"Luxembourg\": lu_patterns, \"Myanmar\": mm_patterns, \"Mexico\": mx_patterns, \"Netherlands\": nl_patterns, \"New Zealand\": nz_patterns,\n",
    "        \"Norway\": no_patterns, \"Panama\": pa_patterns, \"Philippines\": ph_patterns, \"Portugal\": pt_patterns,\n",
    "        \"Saint Helena\": sh_patterns, \"Slovenia\": si_patterns, \"Spain\": es_patterns, \"Sri Lanka\": lk_patterns,\n",
    "        \"Sweden\": se_patterns, \"Switzerland\": ch_patterns, \"Turkey\": tr_patterns, \"Trinidad and Tobago\": tt_patterns, \"Ukraine\": ua_patterns,\n",
    "        \"United Arab Emirates\": ae_patterns, \"United Kingdom\": uk_patterns, \"United States\": us_patterns,\n",
    "        \"U.S. Virgin Islands\": uv_patterns, \"Uruguay\": uy_patterns, \"Serbia\": yu_patterns, \"Unknown\": unknown_patterns\n",
    "    }\n",
    "\n",
    "    for country_name, pattern_list in patterns.items():\n",
    "        if country_lower in pattern_list:\n",
    "            return country_name\n",
    "\n",
    "    return country.title()\n",
    "\n",
    "explicit['Country'] = explicit['Country'].apply(correct_country_name)\n",
    "\n",
    "explicit"
   ]
  },
  {
   "cell_type": "code",
   "execution_count": 80,
   "id": "9dad3f10",
   "metadata": {},
   "outputs": [
    {
     "name": "stdout",
     "output_type": "stream",
     "text": [
      "[' Afghanistan', ' Albania', ' Algeria', ' Andorra', ' Angola', ' Antarctica', ' Argentina', ' Aruba', ' Bahamas', ' Bahrain', ' Bangladesh', ' Barbados', ' Belize', ' Benin', ' Bermuda', ' Bolivia', ' Brunei', ' Bulgaria', ' Cambodia', ' Cameroon', ' Cape Verde', ' Cayman Islands', ' Channel Islands', ' Chile', ' Colombia', ' Cuba', ' Cyprus', ' Czech Republic', ' Dominican Republic', ' Ecuador', ' Egypt', ' El Salvador', ' Estonia', ' Fiji', ' Gabon', ' Ghana', ' Grenada', ' Guam', ' Guatemala', ' Guernsey', ' Guinea', ' Honduras', ' Hong Kong', ' Iceland', ' Indonesia', ' Jamaica', ' Japan', ' Jersey', ' Jordan', ' Kazakhstan', ' Kenya', ' Kosovo', ' Kuwait', ' Laos', ' Latvia', ' Lebanon', ' Libya', ' Lithuania', ' Macau', ' Macedonia', ' Madagascar', ' Malaysia', ' Malta', ' Mauritius', ' Moldova', ' Monaco', ' Mongolia', ' Morocco', ' Mozambique', ' Nepal', ' Netherlands Antilles', ' Nicaragua', ' Niger', ' Nigeria', ' Oman', ' Pakistan', ' Palau', ' Papua New Guinea', ' Paraguay', ' Peru', ' Poland', ' Puerto Rico', ' Qatar', ' Romania', ' Russia', ' Saint Lucia', ' Samoa', ' San Marino', ' Saudi Arabia', ' Singapore', ' Slovakia', ' South Africa', ' South Korea', ' Syria', ' Taiwan', ' Tajikistan', ' Tanzania', ' Thailand', ' Tonga', ' Tunisia', ' Turkmenistan', ' Uganda', ' Unknown', ' Uzbekistan', ' Venezuela', ' Vietnam', ' Yemen', ' Zambia', ' Zimbabwe', 'Antigua and Barbuda', 'Australia', 'Austria', 'Azerbaijan', 'Belgium', 'Bosnia and Herzegovina', 'Brazil', 'Canada', 'China', 'Costa Rica', 'Croatia', 'Denmark', 'Finland', 'France', 'Germany', 'Greece', 'Guinea Bissau', 'Hungary', 'India', 'Iran', 'Ireland', 'Israel', 'Italy', 'Luxembourg', 'Mexico', 'Myanmar', 'Netherlands', 'New Zealand', 'Norway', 'Panama', 'Philippines', 'Portugal', 'Saint Helena', 'Serbia', 'Slovenia', 'Spain', 'Sri Lanka', 'Sweden', 'Switzerland', 'Trinidad and Tobago', 'Turkey', 'U.S. Virgin Islands', 'Ukraine', 'United Arab Emirates', 'United Kingdom', 'United States', 'Unknown', 'Uruguay']\n"
     ]
    }
   ],
   "source": [
    "print(sorted(explicit['Country'].unique()))"
   ]
  },
  {
   "cell_type": "code",
   "execution_count": 81,
   "id": "90bd996f",
   "metadata": {},
   "outputs": [],
   "source": [
    "explicit['Country'] = explicit['Country'].str.lstrip()"
   ]
  },
  {
   "cell_type": "code",
   "execution_count": 82,
   "id": "c3379948",
   "metadata": {},
   "outputs": [],
   "source": [
    "explicit.loc[\n",
    "    explicit['Country'].isin(['Antarctica']),\n",
    "    'Continent'\n",
    "] = 'Antarctica'\n",
    "\n",
    "explicit.loc[\n",
    "    explicit['Country'].isin(['Algeria', 'Angola', 'Benin', 'Cameroon', 'Cape Verde', \\\n",
    "                                      'Egypt', 'Gabon', 'Ghana', 'Guinea', 'Guinea Bissau', \\\n",
    "                                      'Kenya', 'Libya', 'Madagascar', 'Mauritius', 'Morocco', 'Mozambique', \\\n",
    "                                      'Niger', 'Nigeria', 'Saint Helena', 'South Africa', \\\n",
    "                                      'Tanzania', 'Tunisia', 'Uganda', 'Zambia', 'Zimbabwe']),\n",
    "    'Continent'\n",
    "] = 'Africa'\n",
    "\n",
    "explicit.loc[\n",
    "    explicit['Country'].isin(['Afghanistan', 'Bahrain', 'Bangladesh', 'Brunei', 'Myanmar', 'Cambodia', \\\n",
    "                                      'China', 'Hong Kong', 'India', 'Indonesia', 'Iran', 'Israel', 'Japan', \\\n",
    "                                      'Jordan', 'Kuwait', 'Laos', 'Lebanon', 'Macau', 'Malaysia', 'Mongolia', \\\n",
    "                                      'Nepal', 'Oman', 'Pakistan', 'Philippines', 'Qatar', 'Russia', \\\n",
    "                                      'Saudi Arabia', 'Singapore', 'South Korea', 'Sri Lanka', 'Syria', 'Taiwan', \\\n",
    "                                      'Tajikistan', 'Thailand', 'Turkmenistan', 'United Arab Emirates', \\\n",
    "                                      'Uzbekistan', 'Vietnam', 'Yemen']),\n",
    "    'Continent'\n",
    "] = 'Asia'\n",
    "\n",
    "explicit.loc[\n",
    "    explicit['Country'].isin(['Albania', 'Andorra', 'Austria', 'Azerbaijan', 'Belgium', 'Bosnia and Herzegovina', \\\n",
    "                                      'Bulgaria', 'Channel Islands', 'Croatia', 'Cyprus', 'Czech Republic', 'Denmark', 'Estonia', \\\n",
    "                                      'Finland', 'France', 'Germany', 'Greece', 'Guernsey', 'Hungary', 'Iceland', 'Ireland', 'Italy', \\\n",
    "                                      'Jersey', 'Kazakhstan', 'Kosovo', 'Latvia', 'Lithuania', 'Luxembourg', 'Macedonia', 'Malta', 'Moldova', 'Monaco', \\\n",
    "                                      'Netherlands', 'Norway', 'Poland', 'Portugal', 'Romania', 'San Marino', 'Serbia', 'Slovakia', \\\n",
    "                                      'Slovenia', 'Spain', 'Sweden', 'Switzerland', 'Turkey', 'Ukraine', 'United Kingdom']),\n",
    "    'Continent'\n",
    "] = 'Europe'\n",
    "\n",
    "explicit.loc[\n",
    "    explicit['Country'].isin(['Antigua and Barbuda', 'Aruba', 'Bahamas', 'Barbados', 'Belize', 'Bermuda', 'Canada', 'Cayman Islands', \\\n",
    "                                      'Cuba', 'Costa Rica', 'Dominican Republic', 'El Salvador', 'Guatemala', 'Grenada', 'Honduras', 'Jamaica', \\\n",
    "                                      'Mexico', 'Netherlands Antilles', 'Nicaragua', 'Panama', 'Puerto Rico', 'Saint Lucia', \\\n",
    "                                      'Trinidad and Tobago', 'U.S. Virgin Islands', 'United States']),\n",
    "    'Continent'\n",
    "] = 'North America'\n",
    "\n",
    "explicit.loc[\n",
    "    explicit['Country'].isin(['Australia', 'Fiji', 'Guam', 'New Zealand','Palau', 'Papua New Guinea', \\\n",
    "                                      'Samoa', 'Tonga']),\n",
    "    'Continent'\n",
    "] = 'Oceania'\n",
    "\n",
    "explicit.loc[\n",
    "    explicit['Country'].isin(['Argentina', 'Bolivia', 'Brazil', 'Chile', 'Colombia', \\\n",
    "                                      'Ecuador', 'Paraguay', 'Peru', 'Uruguay', 'Venezuela']),\n",
    "    'Continent'\n",
    "] = 'South America'\n",
    "\n",
    "explicit.loc[\n",
    "    explicit['Country'].isin(['Unknown']),\n",
    "    'Continent'\n",
    "] = 'Unknown'"
   ]
  },
  {
   "cell_type": "code",
   "execution_count": 83,
   "id": "2343125d",
   "metadata": {},
   "outputs": [
    {
     "data": {
      "image/png": "[encoded data removed]",
      "text/plain": [
       "<Figure size 640x480 with 1 Axes>"
      ]
     },
     "metadata": {},
     "output_type": "display_data"
    }
   ],
   "source": [
    "top_continent_barchart = explicit['Continent'].value_counts()[:5].sort_values(ascending = True).plot.barh(title = 'Top 5 Continents', ylabel='Continent', xlabel='', color ='black')"
   ]
  },
  {
   "cell_type": "code",
   "execution_count": 86,
   "id": "6f4328b8",
   "metadata": {},
   "outputs": [],
   "source": [
    "country_count = pd.DataFrame(explicit.groupby(['Country'])['Book-Rating'].max())\n",
    "top10countries_highratings = country_count.sort_values('Book-Rating', ascending = False).head(10)"
   ]
  },
  {
   "cell_type": "code",
   "execution_count": 88,
   "id": "0ce83cfb",
   "metadata": {},
   "outputs": [
    {
     "data": {
      "image/png": "[encoded data removed]",
      "text/plain": [
       "<Figure size 640x480 with 1 Axes>"
      ]
     },
     "metadata": {},
     "output_type": "display_data"
    }
   ],
   "source": [
    "popular_titles_barchart = explicit['bookTitle'].value_counts()[1:11].sort_values(ascending = True).plot.barh(title = 'Top 10 Most Popular Book Titles', ylabel='Book Titles', xlabel='')\n",
    "\n",
    "plt.show()"
   ]
  },
  {
   "cell_type": "code",
   "execution_count": 89,
   "id": "873d8477",
   "metadata": {},
   "outputs": [],
   "source": [
    "ratings_count = pd.DataFrame(explicit.groupby(['bookAuthor'])['Book-Rating'].sum())\n",
    "top10authors = ratings_count.sort_values('Book-Rating', ascending = False).head(11)"
   ]
  },
  {
   "cell_type": "code",
   "execution_count": 90,
   "id": "a2d5a4e3",
   "metadata": {},
   "outputs": [
    {
     "data": {
      "image/png": "[encoded data removed]",
      "text/plain": [
       "<Figure size 640x480 with 1 Axes>"
      ]
     },
     "metadata": {},
     "output_type": "display_data"
    }
   ],
   "source": [
    "popular_authors_barchart = explicit['bookAuthor'].value_counts()[1:11].sort_values(ascending = True).plot.barh(title = 'Top 10 Most Popular Book Authors', ylabel='Book Authors', xlabel='')"
   ]
  }
 ],
 "metadata": {
  "kernelspec": {
   "display_name": "Python 3 (ipykernel)",
   "language": "python",
   "name": "python3"
  },
  "language_info": {
   "codemirror_mode": {
    "name": "ipython",
    "version": 3
   },
   "file_extension": ".py",
   "mimetype": "text/x-python",
   "name": "python",
   "nbconvert_exporter": "python",
   "pygments_lexer": "ipython3",
   "version": "3.11.0"
  }
 },
 "nbformat": 4,
 "nbformat_minor": 5
}
